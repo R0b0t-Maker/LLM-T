{
  "nbformat": 4,
  "nbformat_minor": 0,
  "metadata": {
    "colab": {
      "provenance": [],
      "authorship_tag": "ABX9TyORXxuCg9jZURlmGOJW+wsc",
      "include_colab_link": true
    },
    "kernelspec": {
      "name": "python3",
      "display_name": "Python 3"
    },
    "language_info": {
      "name": "python"
    }
  },
  "cells": [
    {
      "cell_type": "markdown",
      "metadata": {
        "id": "view-in-github",
        "colab_type": "text"
      },
      "source": [
        "<a href=\"https://colab.research.google.com/github/R0b0t-Maker/LLM-T/blob/main/Chatbot_LangChain_Gemini.ipynb\" target=\"_parent\"><img src=\"https://colab.research.google.com/assets/colab-badge.svg\" alt=\"Open In Colab\"/></a>"
      ]
    },
    {
      "cell_type": "code",
      "source": [
        "!pip install -q langchain-google-genai"
      ],
      "metadata": {
        "id": "yHq4UeKJV__J"
      },
      "execution_count": null,
      "outputs": []
    },
    {
      "cell_type": "code",
      "source": [
        "!pip install --upgrade -q langchain-google-genai"
      ],
      "metadata": {
        "id": "-YeH6UvTXBC5"
      },
      "execution_count": null,
      "outputs": []
    },
    {
      "cell_type": "code",
      "source": [
        "!pip show langchain-google-genai"
      ],
      "metadata": {
        "colab": {
          "base_uri": "https://localhost:8080/"
        },
        "id": "jvY6sDu7XM9B",
        "outputId": "b416143e-ede7-41ae-b934-6f724e20a7d6"
      },
      "execution_count": null,
      "outputs": [
        {
          "output_type": "stream",
          "name": "stdout",
          "text": [
            "Name: langchain-google-genai\n",
            "Version: 1.0.5\n",
            "Summary: An integration package connecting Google's genai package and LangChain\n",
            "Home-page: https://github.com/langchain-ai/langchain-google\n",
            "Author: \n",
            "Author-email: \n",
            "License: MIT\n",
            "Location: /usr/local/lib/python3.10/dist-packages\n",
            "Requires: google-generativeai, langchain-core\n",
            "Required-by: \n"
          ]
        }
      ]
    },
    {
      "cell_type": "code",
      "source": [
        "!pip install -q google-generativeai"
      ],
      "metadata": {
        "id": "8GQGQkKLXf-o"
      },
      "execution_count": null,
      "outputs": []
    },
    {
      "cell_type": "code",
      "source": [
        "!pip install -q python-dotenv"
      ],
      "metadata": {
        "id": "i19ookyoYm0R"
      },
      "execution_count": null,
      "outputs": []
    },
    {
      "cell_type": "code",
      "source": [
        "from google.colab import drive\n",
        "drive.mount('/content/drive')"
      ],
      "metadata": {
        "colab": {
          "base_uri": "https://localhost:8080/"
        },
        "id": "FjZqEuIVY4g6",
        "outputId": "ef3126d3-a2c7-4bb3-b3b8-f9967616eff5"
      },
      "execution_count": null,
      "outputs": [
        {
          "output_type": "stream",
          "name": "stdout",
          "text": [
            "Drive already mounted at /content/drive; to attempt to forcibly remount, call drive.mount(\"/content/drive\", force_remount=True).\n"
          ]
        }
      ]
    },
    {
      "cell_type": "code",
      "source": [
        "import os\n",
        "from dotenv import load_dotenv, find_dotenv\n",
        "\n",
        "load_dotenv(\"/content/drive/MyDrive/Udemy/LangChain/p-1/.env\", override=True)"
      ],
      "metadata": {
        "colab": {
          "base_uri": "https://localhost:8080/"
        },
        "id": "z8RHMkFKZJ_S",
        "outputId": "ff3f67f3-4a04-421e-c395-3264f78f9556"
      },
      "execution_count": null,
      "outputs": [
        {
          "output_type": "execute_result",
          "data": {
            "text/plain": [
              "True"
            ]
          },
          "metadata": {},
          "execution_count": 38
        }
      ]
    },
    {
      "cell_type": "code",
      "source": [
        "import getpass\n",
        "import os\n",
        "\n",
        "if 'GOOGLE_API_KEY' not in os.environ:\n",
        "  os.environ['GOOGLE_APIKEY']= getpass.getpass('Insert the Google API key:')\n"
      ],
      "metadata": {
        "id": "HY6dncuZzxAU"
      },
      "execution_count": null,
      "outputs": []
    },
    {
      "cell_type": "code",
      "source": [
        "import google.generativeai as genai\n",
        "\n",
        "for model in genai.list_models():\n",
        "  print(model.name)"
      ],
      "metadata": {
        "id": "m761CTH60sFz"
      },
      "execution_count": null,
      "outputs": []
    },
    {
      "cell_type": "code",
      "source": [
        "# import pathlib\n",
        "# import textwrap\n",
        "\n",
        "# import google.generativeai as genai\n",
        "\n",
        "# from IPython.display import display\n",
        "# from IPython.display import Markdown\n",
        "\n",
        "\n",
        "# def to_markdown(text):\n",
        "#   text = text.replace('•', '  *')\n",
        "#   return Markdown(textwrap.indent(text, '> ', predicate=lambda _: True))\n",
        "\n",
        "# from google.colab import userdata\n",
        "\n",
        "\n",
        "# GOOGLE_API_KEY=userdata.get('-----------------')\n",
        "# genai.configure(api_key=GOOGLE_API_KEY)\n",
        "\n",
        "\n",
        "# for m in genai.list_models():\n",
        "#   if 'generateContent' in m.supported_generation_methods:\n",
        "#     print(m.name)"
      ],
      "metadata": {
        "id": "TYtmslWP7AQ1"
      },
      "execution_count": null,
      "outputs": []
    },
    {
      "cell_type": "markdown",
      "source": [
        "**Integrating Gemini with LangChain**"
      ],
      "metadata": {
        "id": "FlL4IweC8bsk"
      }
    },
    {
      "cell_type": "code",
      "source": [
        "from langchain_google_genai import ChatGoogleGenerativeAI\n",
        "\n",
        "llm = ChatGoogleGenerativeAI(model='gemeni-pro', temperature= 0.8)\n",
        "response = llm.invoke('what are the names of the planets in our solar system?')\n",
        "print(response.content)"
      ],
      "metadata": {
        "id": "BTmvo8lO8bAt"
      },
      "execution_count": null,
      "outputs": []
    },
    {
      "cell_type": "code",
      "source": [
        "from langchain.prompts import PromptTemplate\n",
        "from langchain.chains import LLMChain\n",
        "llm = ChatGoogleGenerativeAI(model='gemini-pro')\n",
        "\n",
        "prompt = PromptTemplate.from_template('You are a content creator. Write me a tweet about {topic}')\n",
        "chain = LLMChain(\n",
        "    llm=llm,\n",
        "    prompt=prompt,\n",
        "    verbose=True\n",
        ")\n",
        "\n",
        "topic = 'Why will AI change the world'\n",
        "response = chain.invoke(input=topic)\n",
        "print(response)\n"
      ],
      "metadata": {
        "id": "H468o78VyBdV"
      },
      "execution_count": null,
      "outputs": []
    },
    {
      "cell_type": "code",
      "source": [
        "print(response['topic'])\n",
        "print()\n",
        "print(response['text'])\n"
      ],
      "metadata": {
        "id": "fgZMn-XC27To"
      },
      "execution_count": null,
      "outputs": []
    }
  ]
}
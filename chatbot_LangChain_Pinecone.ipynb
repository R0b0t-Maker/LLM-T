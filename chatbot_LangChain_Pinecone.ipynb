{
  "nbformat": 4,
  "nbformat_minor": 0,
  "metadata": {
    "colab": {
      "provenance": [],
      "authorship_tag": "ABX9TyOnltAtUxqHcXkkRPESiSfs",
      "include_colab_link": true
    },
    "kernelspec": {
      "name": "python3",
      "display_name": "Python 3"
    },
    "language_info": {
      "name": "python"
    }
  },
  "cells": [
    {
      "cell_type": "markdown",
      "metadata": {
        "id": "view-in-github",
        "colab_type": "text"
      },
      "source": [
        "<a href=\"https://colab.research.google.com/github/R0b0t-Maker/LLM-T/blob/main/chatbot_LangChain_Pinecone.ipynb\" target=\"_parent\"><img src=\"https://colab.research.google.com/assets/colab-badge.svg\" alt=\"Open In Colab\"/></a>"
      ]
    },
    {
      "cell_type": "markdown",
      "source": [
        "**Pinecone**"
      ],
      "metadata": {
        "id": "zgXgWj62w3Nt"
      }
    },
    {
      "cell_type": "code",
      "source": [
        "from google.colab import drive\n",
        "drive.mount('/content/drive')"
      ],
      "metadata": {
        "colab": {
          "base_uri": "https://localhost:8080/"
        },
        "id": "6WqY5PSsw22I",
        "outputId": "568a10ec-062e-4f6f-beb0-0f818ff165bc"
      },
      "execution_count": null,
      "outputs": [
        {
          "output_type": "stream",
          "name": "stdout",
          "text": [
            "Drive already mounted at /content/drive; to attempt to forcibly remount, call drive.mount(\"/content/drive\", force_remount=True).\n"
          ]
        }
      ]
    },
    {
      "cell_type": "code",
      "execution_count": null,
      "metadata": {
        "id": "AvC_C_q4wpJw"
      },
      "outputs": [],
      "source": [
        "!pip install -r \"/content/drive/MyDrive/Udemy/LangChain/p-1/requirements.txt\" -q\n",
        "!pip install --quiet openai python-dotenv\n",
        "!pip install -q pinecone-client\n"
      ]
    },
    {
      "cell_type": "code",
      "source": [
        "!pip install --upgrade -q pinecone-client"
      ],
      "metadata": {
        "id": "DtszpWWyxkFl"
      },
      "execution_count": null,
      "outputs": []
    },
    {
      "cell_type": "code",
      "source": [
        "!pip show pinecone-client"
      ],
      "metadata": {
        "colab": {
          "base_uri": "https://localhost:8080/"
        },
        "id": "u8XxGnjHx11M",
        "outputId": "fb832a6f-42a0-44a0-bee6-dc176b6dda52"
      },
      "execution_count": null,
      "outputs": [
        {
          "output_type": "stream",
          "name": "stdout",
          "text": [
            "Name: pinecone-client\n",
            "Version: 4.1.0\n",
            "Summary: Pinecone client and SDK\n",
            "Home-page: https://www.pinecone.io\n",
            "Author: Pinecone Systems, Inc.\n",
            "Author-email: support@pinecone.io\n",
            "License: Apache-2.0\n",
            "Location: /usr/local/lib/python3.10/dist-packages\n",
            "Requires: certifi, tqdm, typing-extensions, urllib3\n",
            "Required-by: \n"
          ]
        }
      ]
    },
    {
      "cell_type": "code",
      "source": [
        "import os\n",
        "from dotenv import load_dotenv, find_dotenv\n",
        "\n",
        "load_dotenv(\"/content/drive/MyDrive/Udemy/LangChain/p-1/.env\", override=True)"
      ],
      "metadata": {
        "colab": {
          "base_uri": "https://localhost:8080/"
        },
        "id": "GFtX6o2FzIIl",
        "outputId": "cd612057-03da-435b-9904-eb2470f51973"
      },
      "execution_count": null,
      "outputs": [
        {
          "output_type": "execute_result",
          "data": {
            "text/plain": [
              "True"
            ]
          },
          "metadata": {},
          "execution_count": 5
        }
      ]
    },
    {
      "cell_type": "code",
      "source": [
        "from pinecone import Pinecone\n",
        "\n",
        "pc=Pinecone()\n",
        "# pc=Pinecone(api_key='e4179379-10db-4ee7-9082-a01a78cda928')\n",
        "pc.list_indexes()"
      ],
      "metadata": {
        "colab": {
          "base_uri": "https://localhost:8080/"
        },
        "id": "f9LGrI5RyA8F",
        "outputId": "0b938f81-8d9f-41a7-8229-44028b9fa5b4"
      },
      "execution_count": null,
      "outputs": [
        {
          "output_type": "execute_result",
          "data": {
            "text/plain": [
              "{'indexes': [{'dimension': 1536,\n",
              "              'host': 'testfile-apju9rk.svc.gcp-starter.pinecone.io',\n",
              "              'metric': 'cosine',\n",
              "              'name': 'testfile',\n",
              "              'spec': {'pod': {'environment': 'gcp-starter',\n",
              "                               'pod_type': 'starter',\n",
              "                               'pods': 1,\n",
              "                               'replicas': 1,\n",
              "                               'shards': 1}},\n",
              "              'status': {'ready': True, 'state': 'Ready'}}]}"
            ]
          },
          "metadata": {},
          "execution_count": 6
        }
      ]
    },
    {
      "cell_type": "code",
      "source": [
        "# pc.list_indexes()[0]"
      ],
      "metadata": {
        "id": "lzHSwNAVWs11"
      },
      "execution_count": null,
      "outputs": []
    },
    {
      "cell_type": "code",
      "source": [
        "# pc.list_indexes()[0]['name']"
      ],
      "metadata": {
        "id": "V842n1z-W4kS"
      },
      "execution_count": null,
      "outputs": []
    },
    {
      "cell_type": "code",
      "source": [
        "from pinecone import ServerlessSpec\n",
        "\n",
        "index_name= 'langchain'\n",
        "if index_name not in pc.list_indexes().names():\n",
        "  print(f'Creating index:{index_name}')\n",
        "  pc.create_index(\n",
        "      name= index_name,\n",
        "      dimension=1536,\n",
        "      metric='cosine',\n",
        "      spec=ServerlessSpec(\n",
        "          cloud = 'aws',\n",
        "          region='us-east-1'\n",
        "      )\n",
        "\n",
        "  )\n",
        "  print('Index created!')\n",
        "else:\n",
        "  print(f'Index{index_name} already exsits!')"
      ],
      "metadata": {
        "id": "DCBwwOr4X5EK",
        "colab": {
          "base_uri": "https://localhost:8080/"
        },
        "outputId": "2daf39a6-8a87-439a-f699-b2adc41fd087"
      },
      "execution_count": null,
      "outputs": [
        {
          "output_type": "stream",
          "name": "stdout",
          "text": [
            "Creating index:langchain\n",
            "Index created!\n"
          ]
        }
      ]
    },
    {
      "cell_type": "code",
      "source": [
        "index_name='quickstart'\n",
        "if index_name in pc.list_indexes().names():\n",
        "  print(f'Deleting index{index_name}...')\n",
        "  pc.delete_index(index_name)\n",
        "  print('done!!!')\n",
        "else:\n",
        "  print(f'Index {index_name} does not exist!')"
      ],
      "metadata": {
        "id": "F5_lMqMhb_3m",
        "colab": {
          "base_uri": "https://localhost:8080/"
        },
        "outputId": "73672101-08c1-42c4-ae19-9b40cb68b2d2"
      },
      "execution_count": null,
      "outputs": [
        {
          "output_type": "stream",
          "name": "stdout",
          "text": [
            "Index quickstart does not exist!\n"
          ]
        }
      ]
    },
    {
      "cell_type": "code",
      "source": [
        "index_name= 'langchain'\n",
        "index = pc.Index(index_name)\n",
        "index.describe_index_stats()"
      ],
      "metadata": {
        "id": "nmfUWPXweQnW",
        "colab": {
          "base_uri": "https://localhost:8080/"
        },
        "outputId": "5f1e6f4b-8e23-4b9d-b186-f63d905a453c"
      },
      "execution_count": null,
      "outputs": [
        {
          "output_type": "execute_result",
          "data": {
            "text/plain": [
              "{'dimension': 1536,\n",
              " 'index_fullness': 0.0,\n",
              " 'namespaces': {},\n",
              " 'total_vector_count': 0}"
            ]
          },
          "metadata": {},
          "execution_count": 11
        }
      ]
    },
    {
      "cell_type": "code",
      "source": [
        "#inserting vectors\n",
        "import random\n",
        "\n",
        "vectors = [[random.random() for _ in range(1536)] for v in range(5)]\n",
        "# print(vectors)\n",
        "ids = list('abcde')\n",
        "\n",
        "index_nmae = 'langchain'\n",
        "index = pc.Index(index_name)\n",
        "\n",
        "index.upsert(vectors=zip(ids, vectors))"
      ],
      "metadata": {
        "id": "SY6et6OXfxzt",
        "colab": {
          "base_uri": "https://localhost:8080/"
        },
        "outputId": "28c976a1-3457-44df-eb26-96a5ecdb9474"
      },
      "execution_count": null,
      "outputs": [
        {
          "output_type": "execute_result",
          "data": {
            "text/plain": [
              "{'upserted_count': 5}"
            ]
          },
          "metadata": {},
          "execution_count": 12
        }
      ]
    },
    {
      "cell_type": "code",
      "source": [
        "#updating vectors\n",
        "index.upsert(vectors=[('c', [0.5]*1536)])\n",
        "#fetching vectors\n",
        "\n",
        "index.fetch(ids=['c','d'])"
      ],
      "metadata": {
        "id": "I4jVvYrfivJF",
        "colab": {
          "base_uri": "https://localhost:8080/"
        },
        "outputId": "5eb05d2f-8585-4279-9b34-dcee80f727f6"
      },
      "execution_count": null,
      "outputs": [
        {
          "output_type": "execute_result",
          "data": {
            "text/plain": [
              "{'namespace': '', 'usage': {'read_units': 1}, 'vectors': {}}"
            ]
          },
          "metadata": {},
          "execution_count": 13
        }
      ]
    },
    {
      "cell_type": "code",
      "source": [
        "# #deleting vectors\n",
        "# index.delete(ids=['b', 'a'])"
      ],
      "metadata": {
        "id": "Wbitr0ILjd-0"
      },
      "execution_count": null,
      "outputs": []
    },
    {
      "cell_type": "code",
      "source": [
        "index.describe_index_stats()"
      ],
      "metadata": {
        "id": "sow1a7TWks3-",
        "colab": {
          "base_uri": "https://localhost:8080/"
        },
        "outputId": "7ff787dc-7418-420f-eaf4-40ec17ece703"
      },
      "execution_count": null,
      "outputs": [
        {
          "output_type": "execute_result",
          "data": {
            "text/plain": [
              "{'dimension': 1536,\n",
              " 'index_fullness': 0.0,\n",
              " 'namespaces': {},\n",
              " 'total_vector_count': 0}"
            ]
          },
          "metadata": {},
          "execution_count": 15
        }
      ]
    },
    {
      "cell_type": "code",
      "source": [
        "index.fetch(ids=['x'])"
      ],
      "metadata": {
        "id": "34KV5HPLkz7D",
        "colab": {
          "base_uri": "https://localhost:8080/"
        },
        "outputId": "3cfd3201-3b16-4896-b236-92b538924b4f"
      },
      "execution_count": null,
      "outputs": [
        {
          "output_type": "execute_result",
          "data": {
            "text/plain": [
              "{'namespace': '', 'usage': {'read_units': 1}, 'vectors': {}}"
            ]
          },
          "metadata": {},
          "execution_count": 16
        }
      ]
    },
    {
      "cell_type": "code",
      "source": [
        "#query\n",
        "query_vector = [random.random() for _ in range(1536)]\n",
        "index.query(\n",
        "    vector=query_vector,\n",
        "    top_k=3,\n",
        "    include_values=False\n",
        ")"
      ],
      "metadata": {
        "id": "ItbU96SalCFp",
        "colab": {
          "base_uri": "https://localhost:8080/"
        },
        "outputId": "921c377c-7c72-4334-8d67-5c9a318209b0"
      },
      "execution_count": null,
      "outputs": [
        {
          "output_type": "execute_result",
          "data": {
            "text/plain": [
              "{'matches': [], 'namespace': '', 'usage': {'read_units': 1}}"
            ]
          },
          "metadata": {},
          "execution_count": 17
        }
      ]
    },
    {
      "cell_type": "markdown",
      "source": [
        "**Namespace**"
      ],
      "metadata": {
        "id": "5xe3iDZmNJb0"
      }
    },
    {
      "cell_type": "code",
      "source": [
        "# index.describe_index_stats()\n",
        "\n",
        "import random\n",
        "\n",
        "vectors = [[random.random() for _ in range(1536)] for v in range(5)]\n",
        "# print(vectors)\n",
        "ids = list('abcde')\n",
        "index.upsert(vectors=zip(ids, vectors))"
      ],
      "metadata": {
        "colab": {
          "base_uri": "https://localhost:8080/"
        },
        "id": "6UyxCDFWM1Bb",
        "outputId": "24f37ff9-4fd9-4134-a55e-9ec95cb63ade"
      },
      "execution_count": null,
      "outputs": [
        {
          "output_type": "execute_result",
          "data": {
            "text/plain": [
              "{'upserted_count': 5}"
            ]
          },
          "metadata": {},
          "execution_count": 18
        }
      ]
    },
    {
      "cell_type": "code",
      "source": [
        "vectors = [[random.random() for _ in range(1536)] for v in range(3)]\n",
        "# print(vectors)\n",
        "ids = list('xyz')\n",
        "index.upsert(vectors=zip(ids, vectors), namespace='first-namespace')"
      ],
      "metadata": {
        "colab": {
          "base_uri": "https://localhost:8080/"
        },
        "id": "tSxn_J-fOFOr",
        "outputId": "65199196-2c09-4f9d-b6bd-3b4763bd3d4b"
      },
      "execution_count": null,
      "outputs": [
        {
          "output_type": "execute_result",
          "data": {
            "text/plain": [
              "{'upserted_count': 3}"
            ]
          },
          "metadata": {},
          "execution_count": 19
        }
      ]
    },
    {
      "cell_type": "code",
      "source": [
        "vectors = [[random.random() for _ in range(1536)] for v in range(5)]\n",
        "# print(vectors)\n",
        "ids = list('qp')\n",
        "index.upsert(vectors=zip(ids, vectors), namespace='second-namespace')"
      ],
      "metadata": {
        "colab": {
          "base_uri": "https://localhost:8080/"
        },
        "id": "NBSmwEa3OP9V",
        "outputId": "ab80612f-f13e-4524-bdbd-24ad538b7b4e"
      },
      "execution_count": null,
      "outputs": [
        {
          "output_type": "execute_result",
          "data": {
            "text/plain": [
              "{'upserted_count': 2}"
            ]
          },
          "metadata": {},
          "execution_count": 20
        }
      ]
    },
    {
      "cell_type": "code",
      "source": [
        "index.describe_index_stats()"
      ],
      "metadata": {
        "colab": {
          "base_uri": "https://localhost:8080/"
        },
        "id": "WJWv_5SxOWCj",
        "outputId": "f24ec878-cf2e-49cd-ebc7-50eec84cf8ab"
      },
      "execution_count": null,
      "outputs": [
        {
          "output_type": "execute_result",
          "data": {
            "text/plain": [
              "{'dimension': 1536,\n",
              " 'index_fullness': 0.0,\n",
              " 'namespaces': {'': {'vector_count': 5}},\n",
              " 'total_vector_count': 5}"
            ]
          },
          "metadata": {},
          "execution_count": 21
        }
      ]
    },
    {
      "cell_type": "code",
      "source": [
        "index.fetch(ids=['x'], namespace='first-namespace')"
      ],
      "metadata": {
        "id": "bDE9N_oZOn2a",
        "colab": {
          "base_uri": "https://localhost:8080/"
        },
        "outputId": "cafedd28-72e3-4046-c481-f367f355b3d7"
      },
      "execution_count": null,
      "outputs": [
        {
          "output_type": "execute_result",
          "data": {
            "text/plain": [
              "{'namespace': 'first-namespace', 'usage': {'read_units': 1}, 'vectors': {}}"
            ]
          },
          "metadata": {},
          "execution_count": 22
        }
      ]
    },
    {
      "cell_type": "code",
      "source": [
        "index.delete(ids=['x'], namespace='first-namespace')"
      ],
      "metadata": {
        "colab": {
          "base_uri": "https://localhost:8080/"
        },
        "id": "4WvxgO1HPbjq",
        "outputId": "0857ad22-41f6-4c6e-dfd6-266d0581fa1b"
      },
      "execution_count": null,
      "outputs": [
        {
          "output_type": "execute_result",
          "data": {
            "text/plain": [
              "{}"
            ]
          },
          "metadata": {},
          "execution_count": 23
        }
      ]
    },
    {
      "cell_type": "code",
      "source": [
        "index.delete(delete_all=True, namespace='first-namespace')"
      ],
      "metadata": {
        "colab": {
          "base_uri": "https://localhost:8080/"
        },
        "id": "f7z1AftJPsty",
        "outputId": "698ca510-79d4-487a-feb9-52648149132f"
      },
      "execution_count": null,
      "outputs": [
        {
          "output_type": "execute_result",
          "data": {
            "text/plain": [
              "{}"
            ]
          },
          "metadata": {},
          "execution_count": 24
        }
      ]
    },
    {
      "cell_type": "code",
      "source": [
        "index.describe_index_stats()"
      ],
      "metadata": {
        "colab": {
          "base_uri": "https://localhost:8080/"
        },
        "id": "s80TPOC3P9jf",
        "outputId": "bbaa1924-080d-4d20-d551-a911fba204c9"
      },
      "execution_count": null,
      "outputs": [
        {
          "output_type": "execute_result",
          "data": {
            "text/plain": [
              "{'dimension': 1536,\n",
              " 'index_fullness': 0.0,\n",
              " 'namespaces': {'': {'vector_count': 5}},\n",
              " 'total_vector_count': 5}"
            ]
          },
          "metadata": {},
          "execution_count": 25
        }
      ]
    },
    {
      "cell_type": "markdown",
      "source": [
        "**Splitting and Embedding Text Using Langhain**"
      ],
      "metadata": {
        "id": "87IbLcc0QJmv"
      }
    },
    {
      "cell_type": "code",
      "source": [
        "import os\n",
        "from dotenv import load_dotenv, find_dotenv\n",
        "\n",
        "load_dotenv(\"/content/drive/MyDrive/Udemy/LangChain/p-1/.env\", override=True)"
      ],
      "metadata": {
        "colab": {
          "base_uri": "https://localhost:8080/"
        },
        "id": "9e7I9nwrQWO7",
        "outputId": "cd9f646c-f8b4-45f4-f4a8-2841e0af00f3"
      },
      "execution_count": null,
      "outputs": [
        {
          "output_type": "execute_result",
          "data": {
            "text/plain": [
              "True"
            ]
          },
          "metadata": {},
          "execution_count": 26
        }
      ]
    },
    {
      "cell_type": "code",
      "source": [
        "from langchain_text_splitters import RecursiveCharacterTextSplitter\n",
        "with open ('/content/drive/MyDrive/Udemy/LangChain/p-1/robot-history.txt') as f:\n",
        "  testfile = f.read()\n",
        "\n",
        "text_splitter= RecursiveCharacterTextSplitter(\n",
        "    chunk_size=100,\n",
        "    chunk_overlap= 20,\n",
        "    length_function=len\n",
        ")"
      ],
      "metadata": {
        "id": "0YalgTkYQ-pi"
      },
      "execution_count": null,
      "outputs": []
    },
    {
      "cell_type": "code",
      "source": [
        "chunks=text_splitter.create_documents([testfile])\n",
        "# print(chunks[1])\n",
        "print(chunks[1].page_content)"
      ],
      "metadata": {
        "colab": {
          "base_uri": "https://localhost:8080/"
        },
        "id": "LgOpgWO9T4Zi",
        "outputId": "52776a53-3318-4581-aff5-bea212cc365c"
      },
      "execution_count": null,
      "outputs": [
        {
          "output_type": "stream",
          "name": "stdout",
          "text": [
            "bird he called \"The Pigeon\", which was propelled by steam.[13] Taking up the earlier reference in\n"
          ]
        }
      ]
    },
    {
      "cell_type": "code",
      "source": [
        "print(f'Number of chunks is: {len(chunks)}')"
      ],
      "metadata": {
        "colab": {
          "base_uri": "https://localhost:8080/"
        },
        "id": "ve7DgEA1UeGR",
        "outputId": "88617e7d-73c5-4daf-9fa4-e0aaa1e87b68"
      },
      "execution_count": null,
      "outputs": [
        {
          "output_type": "stream",
          "name": "stdout",
          "text": [
            "Number of chunks is: 121\n"
          ]
        }
      ]
    },
    {
      "cell_type": "markdown",
      "source": [
        "**Embedding Cost**"
      ],
      "metadata": {
        "id": "KXXy163iVBM5"
      }
    },
    {
      "cell_type": "code",
      "source": [
        "!pip install --upgrade tiktoken\n"
      ],
      "metadata": {
        "colab": {
          "base_uri": "https://localhost:8080/"
        },
        "id": "-7LHkizyXJCB",
        "outputId": "bcfdd2d5-512a-4d16-de3d-9b3233b6568d"
      },
      "execution_count": null,
      "outputs": [
        {
          "output_type": "stream",
          "name": "stdout",
          "text": [
            "Requirement already satisfied: tiktoken in /usr/local/lib/python3.10/dist-packages (0.7.0)\n",
            "Requirement already satisfied: regex>=2022.1.18 in /usr/local/lib/python3.10/dist-packages (from tiktoken) (2023.12.25)\n",
            "Requirement already satisfied: requests>=2.26.0 in /usr/local/lib/python3.10/dist-packages (from tiktoken) (2.31.0)\n",
            "Requirement already satisfied: charset-normalizer<4,>=2 in /usr/local/lib/python3.10/dist-packages (from requests>=2.26.0->tiktoken) (3.3.2)\n",
            "Requirement already satisfied: idna<4,>=2.5 in /usr/local/lib/python3.10/dist-packages (from requests>=2.26.0->tiktoken) (3.7)\n",
            "Requirement already satisfied: urllib3<3,>=1.21.1 in /usr/local/lib/python3.10/dist-packages (from requests>=2.26.0->tiktoken) (2.0.7)\n",
            "Requirement already satisfied: certifi>=2017.4.17 in /usr/local/lib/python3.10/dist-packages (from requests>=2.26.0->tiktoken) (2024.2.2)\n"
          ]
        }
      ]
    },
    {
      "cell_type": "code",
      "source": [
        "def print_embedding_cost(texts):\n",
        "    import tiktoken\n",
        "\n",
        "    # Explicitly get the encoding using get_encoding\n",
        "    enc = tiktoken.get_encoding('cl100k_base')\n",
        "\n",
        "    total_tokens = sum([len(enc.encode(page.page_content)) for page in texts])\n",
        "    print(f'Total Tokens: {total_tokens}')\n",
        "    print(f'Embedding Cost in USD: {total_tokens / 1000 * 0.0004:.6f}')\n",
        "\n",
        "print_embedding_cost(chunks)\n"
      ],
      "metadata": {
        "colab": {
          "base_uri": "https://localhost:8080/"
        },
        "id": "RLiLp77-VGYp",
        "outputId": "8af6c8eb-e5e2-4590-fdde-1b6e92dc69b2"
      },
      "execution_count": null,
      "outputs": [
        {
          "output_type": "stream",
          "name": "stdout",
          "text": [
            "Total Tokens: 2440\n",
            "Embedding Cost in USD: 0.000976\n"
          ]
        }
      ]
    },
    {
      "cell_type": "code",
      "source": [
        "!pip install --upgrade openai langchain\n"
      ],
      "metadata": {
        "colab": {
          "base_uri": "https://localhost:8080/"
        },
        "id": "2TZSt7gFpElo",
        "outputId": "6e13d74c-574e-4196-ddc5-9c70845df453"
      },
      "execution_count": null,
      "outputs": [
        {
          "output_type": "stream",
          "name": "stdout",
          "text": [
            "Requirement already satisfied: openai in /usr/local/lib/python3.10/dist-packages (0.28.0)\n",
            "Collecting openai\n",
            "  Using cached openai-1.30.2-py3-none-any.whl (320 kB)\n",
            "Requirement already satisfied: langchain in /usr/local/lib/python3.10/dist-packages (0.2.0)\n",
            "Requirement already satisfied: anyio<5,>=3.5.0 in /usr/local/lib/python3.10/dist-packages (from openai) (3.7.1)\n",
            "Requirement already satisfied: distro<2,>=1.7.0 in /usr/lib/python3/dist-packages (from openai) (1.7.0)\n",
            "Requirement already satisfied: httpx<1,>=0.23.0 in /usr/local/lib/python3.10/dist-packages (from openai) (0.27.0)\n",
            "Requirement already satisfied: pydantic<3,>=1.9.0 in /usr/local/lib/python3.10/dist-packages (from openai) (2.7.1)\n",
            "Requirement already satisfied: sniffio in /usr/local/lib/python3.10/dist-packages (from openai) (1.3.1)\n",
            "Requirement already satisfied: tqdm>4 in /usr/local/lib/python3.10/dist-packages (from openai) (4.66.4)\n",
            "Requirement already satisfied: typing-extensions<5,>=4.7 in /usr/local/lib/python3.10/dist-packages (from openai) (4.11.0)\n",
            "Requirement already satisfied: PyYAML>=5.3 in /usr/local/lib/python3.10/dist-packages (from langchain) (6.0.1)\n",
            "Requirement already satisfied: SQLAlchemy<3,>=1.4 in /usr/local/lib/python3.10/dist-packages (from langchain) (2.0.30)\n",
            "Requirement already satisfied: aiohttp<4.0.0,>=3.8.3 in /usr/local/lib/python3.10/dist-packages (from langchain) (3.9.5)\n",
            "Requirement already satisfied: async-timeout<5.0.0,>=4.0.0 in /usr/local/lib/python3.10/dist-packages (from langchain) (4.0.3)\n",
            "Requirement already satisfied: dataclasses-json<0.7,>=0.5.7 in /usr/local/lib/python3.10/dist-packages (from langchain) (0.6.6)\n",
            "Requirement already satisfied: langchain-core<0.3.0,>=0.2.0 in /usr/local/lib/python3.10/dist-packages (from langchain) (0.2.1)\n",
            "Requirement already satisfied: langchain-text-splitters<0.3.0,>=0.2.0 in /usr/local/lib/python3.10/dist-packages (from langchain) (0.2.0)\n",
            "Requirement already satisfied: langsmith<0.2.0,>=0.1.17 in /usr/local/lib/python3.10/dist-packages (from langchain) (0.1.62)\n",
            "Requirement already satisfied: numpy<2,>=1 in /usr/local/lib/python3.10/dist-packages (from langchain) (1.24.1)\n",
            "Requirement already satisfied: requests<3,>=2 in /usr/local/lib/python3.10/dist-packages (from langchain) (2.31.0)\n",
            "Requirement already satisfied: tenacity<9.0.0,>=8.1.0 in /usr/local/lib/python3.10/dist-packages (from langchain) (8.3.0)\n",
            "Requirement already satisfied: aiosignal>=1.1.2 in /usr/local/lib/python3.10/dist-packages (from aiohttp<4.0.0,>=3.8.3->langchain) (1.3.1)\n",
            "Requirement already satisfied: attrs>=17.3.0 in /usr/local/lib/python3.10/dist-packages (from aiohttp<4.0.0,>=3.8.3->langchain) (23.2.0)\n",
            "Requirement already satisfied: frozenlist>=1.1.1 in /usr/local/lib/python3.10/dist-packages (from aiohttp<4.0.0,>=3.8.3->langchain) (1.4.1)\n",
            "Requirement already satisfied: multidict<7.0,>=4.5 in /usr/local/lib/python3.10/dist-packages (from aiohttp<4.0.0,>=3.8.3->langchain) (6.0.5)\n",
            "Requirement already satisfied: yarl<2.0,>=1.0 in /usr/local/lib/python3.10/dist-packages (from aiohttp<4.0.0,>=3.8.3->langchain) (1.9.4)\n",
            "Requirement already satisfied: idna>=2.8 in /usr/local/lib/python3.10/dist-packages (from anyio<5,>=3.5.0->openai) (3.7)\n",
            "Requirement already satisfied: exceptiongroup in /usr/local/lib/python3.10/dist-packages (from anyio<5,>=3.5.0->openai) (1.2.1)\n",
            "Requirement already satisfied: marshmallow<4.0.0,>=3.18.0 in /usr/local/lib/python3.10/dist-packages (from dataclasses-json<0.7,>=0.5.7->langchain) (3.21.2)\n",
            "Requirement already satisfied: typing-inspect<1,>=0.4.0 in /usr/local/lib/python3.10/dist-packages (from dataclasses-json<0.7,>=0.5.7->langchain) (0.9.0)\n",
            "Requirement already satisfied: certifi in /usr/local/lib/python3.10/dist-packages (from httpx<1,>=0.23.0->openai) (2024.2.2)\n",
            "Requirement already satisfied: httpcore==1.* in /usr/local/lib/python3.10/dist-packages (from httpx<1,>=0.23.0->openai) (1.0.5)\n",
            "Requirement already satisfied: h11<0.15,>=0.13 in /usr/local/lib/python3.10/dist-packages (from httpcore==1.*->httpx<1,>=0.23.0->openai) (0.14.0)\n",
            "Requirement already satisfied: jsonpatch<2.0,>=1.33 in /usr/local/lib/python3.10/dist-packages (from langchain-core<0.3.0,>=0.2.0->langchain) (1.33)\n",
            "Requirement already satisfied: packaging<24.0,>=23.2 in /usr/local/lib/python3.10/dist-packages (from langchain-core<0.3.0,>=0.2.0->langchain) (23.2)\n",
            "Requirement already satisfied: orjson<4.0.0,>=3.9.14 in /usr/local/lib/python3.10/dist-packages (from langsmith<0.2.0,>=0.1.17->langchain) (3.10.3)\n",
            "Requirement already satisfied: annotated-types>=0.4.0 in /usr/local/lib/python3.10/dist-packages (from pydantic<3,>=1.9.0->openai) (0.6.0)\n",
            "Requirement already satisfied: pydantic-core==2.18.2 in /usr/local/lib/python3.10/dist-packages (from pydantic<3,>=1.9.0->openai) (2.18.2)\n",
            "Requirement already satisfied: charset-normalizer<4,>=2 in /usr/local/lib/python3.10/dist-packages (from requests<3,>=2->langchain) (3.3.2)\n",
            "Requirement already satisfied: urllib3<3,>=1.21.1 in /usr/local/lib/python3.10/dist-packages (from requests<3,>=2->langchain) (2.0.7)\n",
            "Requirement already satisfied: greenlet!=0.4.17 in /usr/local/lib/python3.10/dist-packages (from SQLAlchemy<3,>=1.4->langchain) (3.0.3)\n",
            "Requirement already satisfied: jsonpointer>=1.9 in /usr/local/lib/python3.10/dist-packages (from jsonpatch<2.0,>=1.33->langchain-core<0.3.0,>=0.2.0->langchain) (2.4)\n",
            "Requirement already satisfied: mypy-extensions>=0.3.0 in /usr/local/lib/python3.10/dist-packages (from typing-inspect<1,>=0.4.0->dataclasses-json<0.7,>=0.5.7->langchain) (1.0.0)\n",
            "Installing collected packages: openai\n",
            "  Attempting uninstall: openai\n",
            "    Found existing installation: openai 0.28.0\n",
            "    Uninstalling openai-0.28.0:\n",
            "      Successfully uninstalled openai-0.28.0\n",
            "Successfully installed openai-1.30.2\n"
          ]
        }
      ]
    },
    {
      "cell_type": "code",
      "source": [
        "from langchain.embeddings import OpenAIEmbeddings\n",
        "\n",
        "embedding = OpenAIEmbeddings()\n",
        "vector = embedding.embed_query(chunks[0].page_content)\n",
        "print(vector)"
      ],
      "metadata": {
        "colab": {
          "base_uri": "https://localhost:8080/"
        },
        "id": "eLQWqlTSYRzQ",
        "outputId": "3368880b-3463-434e-c563-8dda0f7f6273"
      },
      "execution_count": null,
      "outputs": [
        {
          "output_type": "stream",
          "name": "stderr",
          "text": [
            "/usr/local/lib/python3.10/dist-packages/langchain_core/_api/deprecation.py:119: LangChainDeprecationWarning: The class `OpenAIEmbeddings` was deprecated in LangChain 0.0.9 and will be removed in 0.3.0. An updated version of the class exists in the langchain-openai package and should be used instead. To use it run `pip install -U langchain-openai` and import as `from langchain_openai import OpenAIEmbeddings`.\n",
            "  warn_deprecated(\n"
          ]
        },
        {
          "output_type": "stream",
          "name": "stdout",
          "text": [
            "[-0.008847972054759063, -0.005676560028270197, -0.008021805986599866, -0.023932164316667715, 0.021826773518991475, -0.001703134622101106, -0.045545733869293455, -0.024718355223209986, 0.009181103368620852, -0.020827378646083472, 0.025930954062483726, 0.006709267846299854, -0.0076953368892333516, -0.02687704747813898, 0.003424591387302186, 0.0027133558878522576, -0.001151801981010148, 0.051035739262840336, 0.011559662272072172, 0.011386433467323364, -0.025571171088672923, 0.007515445867989269, -0.0015215779303178747, -0.029928531691470472, 0.003244700366058103, 0.009167778004307665, 0.017136282533654776, -0.04149485664569924, 0.007262265808683971, -0.012965477031241863, 0.03363295130556707, -0.019028469364965283, -0.029582074081972855, -0.018109026677936405, -0.049276806074661714, -0.016350091627112505, 0.006222895774159039, -0.005539976441043976, 0.01986795986611503, 0.013611751612495658, 0.01591035833006785, 0.008701393978636632, 0.01048697882676427, -0.0006287856226693852, -0.007608722486858947, 0.018628712160860192, 0.0012733949990453516, -0.012758934815710084, -0.0018855240327385816, 0.029262267201101616, 0.011293156848453686, 0.021160510891267897, -0.043466991937598315, 0.0046705029388669165, 0.021347064129007255, 0.013671715751905006, 0.0042107815953524785, 0.0008374092278831204, 0.017349486500020512, -0.0037577229339946345, -0.0032247125524189806, 0.010946700170278708, -0.007635373215485324, 0.01857541070360744, -0.010720170839599787, 0.021653545645565306, -0.009907330135753777, -0.020640825408344114, 0.005283465040660381, 8.140900004061194e-05, 0.039229559613619465, 0.025171413884567832, 0.009807389903404866, -0.020214417475612645, 0.012579044260127322, -0.015150819083474593, 0.017456089414526015, -0.0069291344948221815, -0.03525863457590437, 0.023305877781883703, 0.024731680587523175, -0.01838885746586808, 0.0010543610693772682, 0.005036947663511676, 0.010773471365529901, -0.027796490165167855, -0.012998789510702196, 0.010673532064503628, 0.008708056660793226, 0.012439128866161483, 0.007522108550145863, 0.011466384721879856, 0.0075087831858326745, 0.015763781185268055, -0.007195639452779349, -0.013671715751905006, -0.019827985635820743, 0.0238122379004943, -0.012179286124699592, -0.024025441866860033, -0.0043973352987531555, 0.0008694730947234048, -0.024185344375973014, -0.007988492575816896, -0.017536039737759867, -6.870836404301805e-05, 0.006812538488404424, 0.0063361604394985005, 0.020614174679717736, -0.025171413884567832, -0.012792248226493056, 0.04967656327876681, 0.0039376139552387175, -0.05687220412853011, 0.009001211881715451, -0.028356149878385927, 0.014870988295542918, -0.006056330117228144, -0.011000000696208823, -0.0095608734575788, 0.024491825892531065, -3.544727103686713e-05, 0.014737735583733674, -0.0019421564818236418, 0.024225320468912577, 0.020227742839925834, 0.0012175955016451954, -0.012838887001589213, -0.0209073308319626, -0.007828589135381276, -0.0013283616611759336, 0.008568141266827388, 0.018428831696162367, 0.0013316930022542308, -0.009181103368620852, -0.0051468809877728405, -0.010513628624068008, 0.029875230234217717, -0.021840098883304664, -0.03861660030579391, -0.007988492575816896, 0.014591158438933882, -0.011453059357566667, 0.011706239416871966, -0.008195033860026036, 0.032273775321493545, 0.0018488796301233035, 0.029502121896093726, 0.00197880100085425, -0.002645063861408487, -0.006589340498803799, 0.006406118136481419, 0.024172019011659825, -0.021240463077147026, 0.002748334503513057, 0.01662992241504418, -0.020467597534917944, 0.026117507300223084, -0.012379165658074776, -0.017149607897967965, -0.0065593584290991255, 0.003914294567690638, 0.019494853390636314, -0.045892189616145794, 0.030781347556933406, 0.027876440488401707, 0.0045006059408577255, -0.0044806183600492626, -0.0009685797351030982, 0.005856451049514279, -0.013172018315451003, 0.0034812237199719166, -0.0047537860001630235, 0.025131437791628266, 0.010640218653720657, 0.032060573217773086, -0.005163537693164326, 0.010920049441652332, -0.023359177376491177, 0.01085342355140903, -0.025531194995733357, 0.004573894978918941, 0.014218051032132528, 0.004394003957674858, 0.005863113731670874, -0.00013564696769010704, -0.013558450155242907, 0.0043440343071617215, 0.004627195970510374, -0.01654997209181033, -0.00018759466017614722, -6.850015522562448e-05, -0.010866747984399579, -0.006576015134490611, -0.635774715715681, -0.016923078567289043, -0.004587220343232129, -0.0016731527852270921, 0.006446093763759664, 0.005603271455870301, -0.005060267051059756, -0.006775894202204476, -0.005849788367357686, -0.004850393960110999, -0.010353726114955027, 0.002953210350013708, -0.011000000696208823, 0.003697759260246607, -0.009154452639994476, -0.002431859662212094, 0.01696305466022861, -0.018615386796547003, -0.024118717554407074, 0.02283949375621267, -0.029182316877867764, 0.0026633860045084615, 0.0023935494726423376, 0.008874621852062801, -0.0037277410971206207, -0.005959721691618849, 0.007055724524474831, -0.003434585410537077, -0.01728285967845457, 0.008188371177869441, -0.014218051032132528, 0.03451241789965639, -0.011979407522647046, 0.004284070633413694, 0.019201697238391453, -0.007195639452779349, -0.012639007468214029, 0.04882374741330387, 0.0060163540242885805, 0.032087223946399464, -0.010600243492103732, -0.020640825408344114, 0.028356149878385927, -0.004713810372884778, 0.002628407156017002, 0.012898850209675922, 0.009434283427926151, -0.0032613570714495883, 0.02245306005377549, -0.023239250960317762, -0.0017839189447578304, -0.010906724077339143, 0.022759541570333542, 0.020227742839925834, -0.003980920923595259, 0.01005390728055357, 0.03262023479363644, -0.014551182345994318, -0.007815263771068087, -0.004350696989318316, -0.012165960760386403, -0.0027166869960998947, -0.0006791717490249737, -0.018935191814772965, 0.001434130925504556, -0.00282495488265257, 0.014657784329177184, 0.022559662968280995, 0.029502121896093726, -0.026477288411388612, 0.015577227016206062, 0.020520898992170696, -0.006119625132054469, 0.025131437791628266, 0.024371897613712373, -0.0010885070825991533, 0.034832226643172905, -0.03898970678127263, -0.011706239416871966, -0.008941248673628742, 0.0104536654159813, -0.0070490618423182366, -0.03155421309916249, -0.0009694125703726724, 0.030967900794672765, -0.016829801017096725, -0.032060573217773086, -0.0014749395044677054, 0.03912296042440451, 0.013751667006461497, 0.017376137228646886, 0.013605088930339064, -0.005390067023843248, 0.008987886517402262, 0.011113265361548283, 0.006842520092447778, -0.015883707601441473, -0.015537251854589134, 0.012232587581952344, -0.044426410717566756, -1.3214648787049969e-05, 0.00041370763142794707, 0.04210781595352479, 0.003136432712336088, -0.009467595907386482, 0.003940945296317014, -0.019228347967017827, -0.0031564205259752105, 0.016110236932120395, -0.04146820591707286, -0.013738341642148308, -0.026530589868641364, -0.004993640695155134, 0.004693822326414996, 0.014311327651002207, -0.019281649424270582, 0.02333252851051008, -0.01037371416142481, -0.002311932314716039, -0.03560509032275671, 0.028942462182875654, 0.005050273027824864, 0.012599032306597103, -0.01198607020480364, 0.006599334522038689, 0.03051484213331492, -0.004290733315570288, -0.03632465627037832, -0.027743188707915103, -0.0029032406995005717, 0.0019221685517691893, 0.015483950397336382, 0.02349243101962306, 0.007355542893214969, 0.03898970678127263, 0.010220473403145783, 0.024931559189575722, -0.001810569556968877, 0.03262023479363644, 0.009880679407127401, -0.027023624622938773, -0.010067232644866758, -0.0018222291343275867, -0.027156876403425376, -0.019521504119262692, -0.043227139105251486, -0.003944276637395311, -0.019641430535436107, -0.02689037097980689, 0.03843004520540928, 0.0013125380238846822, -0.013431861056912896, 0.0011576318278971678, -0.007688674207076757, 0.017402787957273264, -0.03557843959413033, -0.007821926453224682, -0.023599032071483287, 0.0008969564839963608, -0.015190795176414158, 0.013378559599660143, 0.006229558456315633, -0.020414296077665192, 0.004367353694709801, -0.0067958817830129385, -0.02486493236800978, -0.008827984008289281, 0.007495457821519487, -0.018482133153415122, -0.03142095945603061, 0.01662992241504418, -0.002551787009708149, 0.008728044707263008, 0.00957419789056935, -0.011393096149479958, -0.0008411569283885396, -0.009234403894550967, -0.017149607897967965, -0.009727438648848376, -0.020654150772657302, 0.003737735120355512, 0.0003679020699511846, -0.0347256237286674, -0.026530589868641364, 0.016669898507983744, -0.002828286223730867, 0.046798306938861486, 0.03667111201723066, -0.015483950397336382, 0.03075469682830703, -0.013738341642148308, 0.012239250264108938, 0.012958814349085268, 0.0037344037792772147, 0.030248336709696434, -0.03683101638898892, 0.010626893289407469, 0.018468807789101933, -0.010127196784276106, 0.025717748233472715, 0.02245306005377549, 0.005320109326860329, 0.03637795772763107, -0.014164749574879777, 0.029342219386980745, -0.009101151182741723, -0.0006891657140521999, 0.004477287018970965, 0.03403271223496272, 0.003332980206140996, 0.013205330794911334, -0.014804362405299617, -0.018948517179086154, -0.015417324507093079, 0.03198062103189396, 0.014204725667819341, 0.010513628624068008, 0.005433373992199789, 0.021973350663791268, -0.011939431429707482, 0.0011451394152688838, -0.0069291344948221815, 0.020467597534917944, 0.010413689323041736, -0.01792247344019705, 0.01623016521093909, -0.0013058753417280883, 0.027450032555670238, 0.007268928490840564, -0.020201092111299456, 0.0039376139552387175, -0.0016856451978553761, -0.0008357435573439718, 0.003514536897924227, 0.0323270767787463, 0.018828590762912736, -0.013025440239328572, -0.005796487375766252, 0.021453667043512762, 0.005283465040660381, 0.010466990780294488, 0.008115082605469545, 0.0015382345192940302, -0.03848334666266203, 0.01066020670019044, 0.018029074492057276, 0.010680194746660222, -0.018522109246354685, 0.0007670351714730794, 0.0026150820245344733, -0.011193217547427413, -0.020947306924902164, -0.033233194101461985, 0.013618414294652253, 0.015417324507093079, -0.030781347556933406, 0.019135070416825512, 0.003944276637395311, 0.024345246885085995, 0.013831618261017987, 0.015190795176414158, -0.0015149153645766104, -0.001436629431313279, 0.0209073308319626, 0.02590430333385735, 0.011093277315078502, 0.013152030268981221, 0.015883707601441473, -0.027769839436541478, -0.021720170604485972, -0.0135651128373995, -0.006662629071203695, 0.005929740087575496, -0.04221441886803029, 0.013871594353957552, -0.011852817492994397, -0.008215021906495817, 0.015084192261908652, 0.014484556455751016, -0.00025422095787310396, -0.026503939140014986, -0.06651968966017673, 0.003154754855436062, -0.0023102666441768903, 0.004617201947275483, 0.007935191118564142, -0.02307934845120478, 0.03248698115050455, -0.020560873222464984, 0.03219382313561441, -0.0007324727988240721, 0.017935798804510236, 0.007335554846745186, -0.019761358814254802, -0.02066747613697049, -0.04088189361258313, 0.03459237008553551, -0.019228347967017827, -0.01066020670019044, -0.024958209918202096, -0.0008203362212721777, 0.014604483803247071, 0.012978801464232413, -0.0013275289423216891, 0.051648702295956445, 0.004720473055041373, -0.021866749611931042, -0.02108055870538877, -0.0037543915929163373, -0.025104787063001892, -0.014324653015315396, -0.02679709529225985, 0.00041225019881002456, -0.0024884919948818243, -0.006719261869534745, -0.014724411150743126, 0.0026667173455867583, -0.018948517179086154, 0.03704421849270937, 0.018868566855852302, -0.026250759080709687, -0.022999396265325652, -0.012379165658074776, -0.008434888555018146, 0.041201698630809094, 0.012625682103900842, -0.027689887250662352, 0.028356149878385927, -0.029075713963362258, 0.014524531617367942, -0.035978196798235426, -0.030648093913801525, 0.009600848619195726, 0.003427922728380483, 0.0032830105556278595, 0.003577831912750552, 0.020440946806291566, 0.012172623442542998, 0.014284676922375832, 0.009107813864898317, -0.011019988742678606, -0.017989098399117713, 0.034059359238298545, -0.0282495488265257, 0.0028649305099308154, 0.0007370533928067305, 0.022732890841707164, -0.00754875881311092, 0.0006687614245706253, -0.019081770822218035, 0.03581829615176772, 0.015110842990535028, 0.008901272580689177, -0.021107209434015145, 0.008894609898532583, 0.011486372768349637, -0.006689279799830071, 0.0033346458766801445, -0.014791037040986428, -0.0012001060773994658, 0.009980618708153673, 0.01840218283018127, -0.013025440239328572, -0.01760266655932581, -0.0021037251271370907, 0.0005480012418049958, 0.0034878864021285105, 0.00470048500857159, 0.0023885526938555515, 0.00919442873293404, 0.015324046956900763, 0.002182011176815752, 0.004200787572117588, -0.010673532064503628, 0.012132648280926072, -0.005463356061904463, -0.014937615117108859, -0.018069050584996842, 0.016589946322104615, 0.023412478833743932, 0.010407026640885142, 0.005150212328851137, 0.009374319288516803, 0.0033679590546324555, -0.026663841649127967, 0.0005550802833887122, 0.027929741945654462, -0.014071472956010097, -0.01994791205199416, -0.01066020670019044, -0.002814960859417679, 0.007408843884806402, -0.05543307595857745, 0.011233192709044338, -0.024598426944391294, -0.021360389493320444, -0.017256208949828194, -0.011679588688245588, 0.01688310247434948, 0.010520291306224602, 0.011079952882087952, -0.005543307782122273, -0.007735312516511597, 0.029182316877867764, -0.006516051460742583, -0.004297395997726883, -0.010766808683373307, -0.024758331316149552, -0.007968504529347113, 0.019254998695644204, -0.00876135718672334, -0.007029073795848454, 0.011619625480158881, -0.003970926900360368, 0.0047904302863629716, -0.010000606754623456, 0.036617810559977905, -0.016923078567289043, -0.010167171945893031, -0.008608117359766953, -0.0001872823469500569, -0.0007262265925099301, -0.002426862650594648, -0.013371896917503548, 0.009567535208412756, -0.012239250264108938, 0.0014482890086719889, 0.0011343126731797482, 0.022639615154160124, -3.669651302729135e-05, 0.02590430333385735, 0.02665051628481478, -0.014657784329177184, -0.0218001227903651, 0.009760752059631346, -0.025744398962099093, 0.010140522148589293, -0.028702607487883544, -0.0015315719535527658, 0.012379165658074776, 0.00470048500857159, 0.017162933262281153, -0.03765718152582547, -0.014950940481422047, -0.00920775409724723, -0.0015207450950483004, 0.023105999179831156, 0.012858874116736358, -0.020654150772657302, 0.026863722113825792, -0.011473047404036449, -0.00019446549294246997, -0.024571776215764916, -0.005996366443480117, 0.030887948608793635, 0.018935191814772965, -0.009074501385437986, -0.03349970138772575, -0.018442157060475556, -0.021240463077147026, -0.003164748878670953, 0.007408843884806402, -0.011819504082211427, 0.011493035450506232, -0.01760266655932581, 0.021053907976762393, -0.002478498204477593, -0.014844338498239181, -0.030568143590567674, -0.028569353844751663, -0.018855241491539113, 0.018029074492057276, -0.018188978863815534, 0.028169596640646572, -0.02049424826354432, 8.729085547623149e-05, 0.030461540676062167, -0.005903089358949119, -0.007382193156180026, -0.015177469812100969, 0.011932768747550887, -0.023119324544144344, 0.030035132743330698, 0.009281042669647126, 0.024451849799591502, 0.017269534314141383, 0.04677165621023511, 0.00981405258556146, 0.0029215628426005457, 0.0065193828018208794, -0.018228953094109823, -0.01623016521093909, -0.026290735173649254, 0.017242885448160283, 0.03456571935690914, 0.011433072242419523, 0.01792247344019705, 0.001897183726512621, -0.0007761963012307314, 0.01670987460092331, 0.009221078530237778, -0.007202302134935943, -0.002741672054187123, -0.03605814898411455, -0.01905512009359166, -0.007348880211058374, 0.025224715341820584, -0.007368867791866837, 0.0031730772313666956, -0.007522108550145863, 0.025051485605749137, -0.0012575712453387704, 0.011486372768349637, 0.030568143590567674, 0.03877650095226162, -0.018668686391154477, 0.01214597364523926, -0.01777589443275198, 0.022306482908975696, -0.0191217469151576, 0.006552695746942531, 0.007408843884806402, -0.02641066158982267, 0.014537856981681129, -0.005243489413382135, 0.012872199481049547, -0.0020237736397499405, 0.0020820716429588194, -0.028675956759257167, -0.016509995998870763, 0.030328288895575563, 0.006056330117228144, -0.012585706942283916, -0.013831618261017987, -0.03635130699900469, -0.015550577218902323, -0.012092672187986507, -0.026570565961580927, 0.00952756004679583, 0.014884313659856107, -0.015963659787320603, 0.033712903491446206, -0.01888189222016549, -0.012818898955119432, 0.006239552479550524, -0.0044273173684578285, 0.012012720933430017, 0.013778317735087873, 0.03264688179697226, 0.005703210756896573, -0.02073410295853643, -0.01777589443275198, 0.028542703116125286, -0.002022107969210792, -0.0056732286871919, 0.006822532511639314, 0.014751060948046863, 0.002311932314716039, -0.029821928776964966, 0.005023622299198488, -0.003704421942403201, -0.0006783389719630644, -0.033579649848314325, 0.022732890841707164, -0.007515445867989269, -0.013658390387591817, 0.00240187782533808, 0.002088734325115414, -0.001087674247329579, 0.0005804815844877325, -0.0036511209508117677, -0.017389462592960075, 0.006712599187378151, -0.0007437160167556597, 0.0016298457004552199, 0.015417324507093079, -0.028436102064265056, 0.019068445457904846, -0.004773774046632806, -0.017735918339812414, 0.007368867791866837, -0.029182316877867764, -0.020214417475612645, 0.010433677369511517, 0.0012200940074539183, 0.002145366657785144, 0.005323440667938626, 0.003061478236566383, 0.019974562780620535, -0.004374015911205076, -0.000603800797412817, -0.012685646243310188, -0.013804967532391611, 0.028062993726141065, -0.006909146448352399, -0.006732586768186614, -0.017975773034804524, 0.02259963906122056, -0.0014174743365284008, -0.012365840293761587, -0.0013558451086565545, -0.009920654568744327, -0.022879469849152234, -0.029848579505591343, 0.01525742106665746, -0.0035678378895156607, -0.016123562296433584, -0.001081844400442559, -0.018935191814772965, -0.010926712123808927, -0.003411266255819657, 0.009747426695318157, -0.0052668083352688955, -0.048130832194308644, -0.024771654817817464, -0.029155666149241387, -0.023758936443241545, 0.005030284981355082, 0.013172018315451003, -0.011719564781185153, -0.026304060537962443, 0.05596608680581443, -0.0005288462052277826, 0.018522109246354685, 0.007282253855153753, -0.0010835100709817077, -0.014764386312360052, 0.018855241491539113, 0.007075712105283294, -0.011106602679391689, 0.026450637682762235, -0.01720290935522072, 0.019281649424270582, -0.022079953578296774, -0.00012763098642811966, 0.01677650142248925, 0.021013931883822827, -0.0025534526802472976, 0.033393098473220244, 0.012139310963082666, 0.006745912132499802, -0.013052090967954948, -0.010200485356676002, 0.021040582612449205, 0.018268929187049386, 0.009074501385437986, 0.039522717628509604, -0.01631011739681822, -0.009827377949874648, 0.006995760850726803, -0.0023935494726423376, -0.0004647183842357162, -0.03603149825548818, -0.00028378637711233063, -0.023838886766475397, 0.009694125238065406, -0.031127803303785746, -0.027929741945654462, -0.026517264504328175, 0.004910357633859027, -0.030354939624201938, 0.013358571553190361, -0.006142944053941229, -0.015790431913894433, 0.008461539283644522, 0.002032101992445683, -0.01581708264252081, 0.008374925346931437, -0.010033920165406426, -0.017855846618631106, 0.005120230724807783, 0.0048870387119722665, -0.03893640532401988, -0.011493035450506232, -0.006562689770177422, 0.04479952091833603, 0.0033812844189456434, -0.001777256379016566, -0.016416718448678445, 0.019095096186531223, -0.03736402351093533, -0.013911569515574478, -0.019015144000652094, -0.002346911163207498, 0.005959721691618849, 0.010100546055649728, 0.009054513338968203, 0.021200486984207463, -0.0065060574375076915, 0.014098123684636473, 0.0050436103456682705, -0.003437916751615374, -0.004327377601770236, -0.013451848172060039, 0.0015632193445505984, -0.021373714857633633, -0.037097519949962125, -0.030328288895575563, 0.005906420700027416, -0.046132046173783185, -0.0008728044358017019, 0.000680004584294548, -0.006359479827046579, -0.013611751612495658, -0.010153846581579843, 0.00022111600329010293, 0.011919443383237699, 0.0024585101580078105, 0.017962447670491336, -0.051781955939088326, -0.015124168354848217, 0.002913234722735463, 0.0015540582730006114, -0.049356758260540846, -0.003977589582516963, -0.012452454230474672, -0.014271351558062643, 0.02899576177748313, -0.022079953578296774, -0.0017589341195012622, 0.008354937300461655, -0.019175046509765075, 0.03603149825548818, -0.002683374050978244, 0.00799515525797349, 0.00850817805874068, -0.019588130940828632, -0.016376742355738882, -0.025091461698688703, 0.019961237416307346, -0.023359177376491177, 0.0046205332883537805, 0.00011836577408964526, -0.021973350663791268, 0.010387039525737997, -0.006942459859135369, 0.014831013133925992, -0.03776378444033098, 0.005893095801375548, -0.003890975412973218, -0.021720170604485972, -0.022652940518473313, 0.013158692951137816, 0.017615991923638996, -0.011639613526628663, -0.015017566371665349, 0.022652940518473313, 0.03142095945603061, -0.024518476621157442, -0.016616597050730993, -0.00783525181753787, -0.010526953988381197, -0.011513023496976013, 0.009874016724970807, -0.011466384721879856, -0.021520292002433425, 0.012026046297743205, 0.01752271437344668, -0.0012600697511474933, -0.008927923309315553, 0.18772624232797347, -0.010666869382347033, 0.008254997999435382, 0.03619140262724644, 0.0017139613641902415, -0.007528771232302457, -0.009927317250900921, 0.002576771834964717, -0.018588736067920626, 0.0005534146710572286, 0.01704300498346246, -0.006855845456760966, 0.007755300562981379, 0.018775289305659984, 0.027156876403425376, -0.020201092111299456, -0.0015307391182831915, 0.014404604269871887, 0.0019421564818236418, -0.014910964388482483, 0.009254391941020748, -0.01037371416142481, -0.01670987460092331, -0.005836463468705816, 0.021173836255581086, -0.006006360466715008, -0.020774079051475994, -0.029875230234217717, 0.0012317535848126282, 0.0069158091305089936, -0.027370080369791112, 0.005576620727243924, 0.003194730715544967, -0.005626590377757061, -0.018348881372928515, 0.0022136586842289143, 0.026810420656573037, 0.01809570131362322, 0.024158693647346637, 0.024478500528217876, 0.02245306005377549, 0.004627195970510374, 0.03365960203419345, 0.005186857080712405, 0.005240158072303838, 0.011233192709044338, 0.0020021201555716693, 0.007102362833909671, 0.011313144894923468, 0.018242278458423012, -0.03949606689988323, -0.004327377601770236, 0.047917630090588186, 0.021160510891267897, -0.0007212296391001494, -0.0047171417139630755, -0.0033646277135541583, 0.011026651424835198, 0.009927317250900921, 0.021520292002433425, -0.022746216206020353, 0.023225925596004574, -0.0051768630574775135, 0.013211993477067929, -0.005003634718390025, 0.00957419789056935, -0.030941250066046387, 0.01960145630514182, 0.002969867055405193, -0.02848940352151781, 0.009827377949874648, -0.030594794319194048, -0.025118112427315077, 0.014764386312360052, -0.027276804682244072, -0.03728407505034676, 0.027903091217028084, 0.0005405057825864924, -0.005296790404973569, 0.009141127275681287, 0.023532407112562624, 0.0030864630618229515, -0.019068445457904846, -0.014071472956010097, -0.027143551039112188, -0.03309994418362066, 0.010153846581579843, 0.0006579346242738248, -0.017802545161378355, 0.012039370730733754, -0.0075620841774241086, -0.020947306924902164, -0.005773168453879492, 0.0026483952024867843, 0.018228953094109823, 0.01631011739681822, -0.008121745287626138, 0.010546942034850978, -0.007275591172997159, 0.0026334041676344478, -0.030914599337420013, -0.012985464146389007, 0.004663840722371642, -0.005370079443034784, 0.022373109730541636, 0.008881284534219396, -0.007162326507657698, 0.01000726943678005, 0.01654997209181033, -0.004853725301189296, -0.024611752308704483, -0.019268324059957393, 0.01670987460092331, 0.009454270543073294, 0.0011159904136644441, -0.008181708495712847, 0.0008090930615482551, -0.0008786342244810568, 0.025397943215246754, 0.011339794692227206, 0.0037577229339946345, -0.01760266655932581, 0.011073290199931357, 0.022133255035549526, 0.006033010729680066, -0.030621445047820425, -0.03667111201723066, 0.012665658196840407, 0.014071472956010097, -0.01704300498346246, -0.003329649097893359, -0.019414901204757185, -0.0030015145628183556, -0.004044215938421584, -0.020947306924902164, 0.006909146448352399, 0.014791037040986428, -0.012792248226493056, -0.011919443383237699, -0.033526352116352125, -0.014298002286689019, -0.009027862610341827, 0.009434283427926151, 0.03331314628734111, 0.01808237594931003, -0.022559662968280995, 0.030887948608793635, -0.007801938872416219, -0.010926712123808927, -0.026450637682762235, -0.013591763566025877, 0.0010435343272881326, 0.008274986045905165, -0.00040975169300130177, -0.003940945296317014, 0.012945488984772081, -0.002113719150371982, -0.021120534798328334, -0.0009777408066530852, -0.013558450155242907, -0.026250759080709687, -0.012312538836508836, 0.027370080369791112, -0.03488552810042566, -0.012865536798892952, -0.005090248655103109, -0.170136895545025, -0.008668080567853662, 0.011966082158333858, -0.0436002455807302, 0.014524531617367942, -0.002163688800885118, 0.028436102064265056, 0.008381588029088031, -0.01662992241504418, 0.012512417438561381, 0.03491217882905203, 0.022559662968280995, -0.04037553349397254, -0.029342219386980745, 0.016043611973199732, -0.0061129624498978755, -0.02049424826354432, 0.008488190012270897, 0.0029298911952962883, 0.009714113284535187, 0.018215627729796634, -0.025491218902793794, 0.006549364405864234, 0.0005321774880984148, 0.019175046509765075, 0.02049424826354432, 0.0032930045788627507, 0.0029981832217400584, 0.0016315113709943685, -0.038883103866767126, -0.004787098945284675, 0.012319201518665428, 0.028915811454249277, -0.00828164779673912, 0.016696549236610122, -0.004104179612169611, -0.0035112055568459304, -0.009201091415090635, -0.007528771232302457, 0.020894005467649412, 0.011999395569116828, 0.02170684710281806, 0.016096911567807206, 0.002398546484259783, 0.009314356080430096, 0.008907935262845772, 0.006579346475568908, -0.0027966387163177045, 0.013964870972827231, -0.03576499469451497, 0.006389461431089934, 0.0027716538910611366, 0.001210100100634357, -0.0008594791879038435, 0.018868566855852302, -0.005216838684755759, 0.003302998369266982, 0.018242278458423012, -0.0008315794392037654, -0.009327681444743285, -0.03136765799877785, -0.006013023148871603, 0.0406953385121985, -0.013245306887850899, -0.011972744840490452, 0.0033046640398061307, -0.008641429839227286, 0.004966989966528758, -0.005130224748042674, 0.006036342070758362, -0.006769231520047881, 0.01720290935522072, 0.0036944279191683097, -0.022253181451722944, -0.002523470843373284, 0.03547183667962483, -0.020081163832480764, 0.009301030716116907, 0.004747123318006429, -0.005100242678338001, -0.027903091217028084, 0.019668081264062484, -0.0095608734575788, -0.01808237594931003, 0.019241673331331016, -0.0007278922630490786, 0.012825561637276026, -0.011413084195949741, -0.015643852906449363, -0.013791643099401061, 0.00012429967445365509, -0.053327683298255935, -0.0036411269275768766, -0.010940037488122115, 0.019654755899749295, 0.029848579505591343, -0.008161720449243065, -0.012239250264108938, 0.021720170604485972, -0.020854029374709846, -0.01525742106665746, -0.020467597534917944, -0.013478498900686416, 0.03440581871044144, 0.025571171088672923, 0.029555423353346478, -0.0029582073616311534, 0.022173231128489092, 0.018855241491539113, 0.006043004752914956, -0.00860145467761036, 0.0008074273910091065, 0.015963659787320603, 0.01873531321272042, -0.007895215956947216, 0.012379165658074776, -0.00533010335009522, -0.013298608345103652, 0.01777589443275198, -0.001459115867176454, 0.05601938826306718, 0.030168384523817305, 0.010633555971564063, 0.006222895774159039, 0.022586313696907372, -0.013172018315451003, -0.07989825112248214, -0.01575045582095487, 0.014298002286689019, 0.012492430323414237, 0.020321018527472874, 0.013218656159224523, -0.0005109403633472658, 0.017536039737759867, -0.03171411374563019, 0.04138825373119373, -0.004197456231039291, -0.03699091703545662, 0.004527256669484101, -0.0020054514966499665, 0.013338583506720578, 0.0002560948081258136, 0.011886130903777367, -0.030807998285559784, 0.018708662484094044, -0.009094489431907767, 0.012365840293761587, 0.004647184016980156, 0.013172018315451003, -0.011772866238437906, -0.010666869382347033, 0.0020987281155196453, -0.01728285967845457, 0.023785587171867923, 0.025371292486620376, -0.011286494166297092, -0.017549365102073056, 0.010047244598396976, -0.010813447458469466, -0.03168746674229437, -0.005583283409400518, -0.006819201170561018, -0.015777106549581244, 0.008288310478895713, 0.027796490165167855, -0.0123525149294484, 0.002281950477842025, -0.011313144894923468, 0.007222290181405726, -0.02405209259548641, 0.0031963963860841154, -0.023678984257362416, 0.004763780023397915, 0.023505756383936247, 0.03043488994743579, -0.019015144000652094, -0.002946547900687774, -0.0031147792281578167, -0.027983043402907214, -0.011559662272072172, 0.02679709529225985, -0.013638402341122036, -0.012998789510702196, 0.004354028330396613, 0.004637189993745266, -0.006486069391037909, -0.012639007468214029, 0.014631133600550808, 0.03909630969577813, 0.027796490165167855, 0.018908541086146587, -0.010593580809947137, -0.017855846618631106, -0.016909753202975854, 0.031314356541525104, -0.016003635880260166, 0.020854029374709846, 0.04687825912474061, -0.014164749574879777, 0.0063728047256984485, -0.020281044297178585, -0.02156026809537299, -0.009940642615214108, 0.013418535692599707, 0.031207755489664875, -0.017882497347257484, -0.019761358814254802, -0.03224712459286717, 0.004030890574108396, -0.012838887001589213, 0.0353385867617835, 0.0006850015959119935, 0.0006217065810856689, 0.005130224748042674, 0.021200486984207463, -0.007168989189814292, -0.01639006772005207, -0.003587825935985443, 0.026384012723841572, -0.03155421309916249, -0.01776256906843879, -0.015643852906449363, -0.0011018323304970116, -0.028222898097899324, 0.003376287407328198, 0.0051468809877728405, -0.022959420172386086, -0.019175046509765075, -0.051888555128303274, 0.023159298774438633, 0.00013450183374635863, 0.002405209166416377, 0.010440340051668112, -0.0022569656525854567, 0.015457299668710007, -0.016749850693862874, -0.013591763566025877, 0.005509994371339303, -0.020894005467649412, 0.0001214888845226744, -0.026823746020886226, -0.026850396749512603, 0.016603271686417804, -0.0026917021708433267, 0.015857056872815096, 0.024491825892531065, 0.01694972929591542, -0.0043073900209617735, 0.003281344885088711, 0.01623016521093909, 0.005343428714408408, 0.01936160161014971, -0.025930954062483726, -0.021573593459686177, -0.012605694988753698, 0.010140522148589293, -0.0382967915622774, 0.003054815554409789, -0.003564506781268023, -0.023132648045812255, 0.004793761627441269, 0.027769839436541478, 0.013645065023278629, -0.021573593459686177, -0.009920654568744327, 0.01970805735700205, -0.008248335317278787, 0.057778321451245805, 0.029049063234735883, -0.012225924899795751, 0.039842522646735566, -0.025491218902793794, 0.011626288162315476, 0.009887342089283995, -0.00048262419701240055, 0.009827377949874648, 0.029662026267851985, -0.005929740087575496, -0.000591308326576868, 0.007248940444370782, -0.002898243687883126, -0.011000000696208823, 0.003541187393719944, -0.033366447744593866, 0.028675956759257167, -0.005959721691618849, 0.021427016314886384, -0.026264084445022876, 0.026170808757475836, 0.03325984483008836, -0.01880194003428636, -0.04176136020667245, -0.011999395569116828, 0.000257344061030175, -0.010566930081320761, 0.003594488618142037, 0.017536039737759867, -0.014377954472568148, -0.0047904302863629716, -0.01696305466022861, 0.027983043402907214, 0.006376136066776746, 0.007821926453224682, -0.008654755203540473, -0.025024834877122763, 0.010886736030869362, -0.009627499347822102, 0.021853424247617853, 0.004250757688292043, 0.0038643249171775016, -0.027396731098417487, 0.007188977236284074, 0.04621199835966231, 0.014324653015315396, -0.010973350898905086, -0.008048455783903603, 0.025344641757994002, 0.01701635611748136, 0.017322835771394134, 0.005333434691173517, -0.007102362833909671, -0.015603877744832437, -0.003657783400137702, 0.006962447439943833, -0.025091461698688703, -0.024078741461467507, 0.02138704022194682, 0.029741976591085836, 0.017735918339812414, -0.005856451049514279, -0.004613870606197186, 0.0037277410971206207, -0.022519686875341432, 0.01461780823623762, 0.0033529682526107782, -0.050715934244614375, -0.023958815045294093, 0.007635373215485324, 0.023052697722578404, 0.020560873222464984, 0.007542096130954326, 0.003501211766441699, -4.9319070718362664e-05, 0.023039372358265215, -0.01694972929591542, -0.022679589384454413, -0.023878862859414964, 0.029662026267851985, 0.017349486500020512, 0.013611751612495658, 7.547509967660213e-05, -0.010560267399164167, 0.0022236524746331457, 0.003741066461433809, 0.016003635880260166, -0.009301030716116907, -0.007062387206631425, -0.018268929187049386, 0.014231376396445717, 0.021253786578814937, -0.028222898097899324, 0.004603877048623615, -0.0021620231303459696, -0.00031210254344719586, 0.009860691360657618, 0.016749850693862874, -0.008914597945002366, 0.058737740231214246, 0.005613265013443873, -0.004730466612614944, 0.009254391941020748, -0.006486069391037909, 0.01792247344019705, 0.019588130940828632, 0.01640339308436526, -0.009187766050777446, 0.012319201518665428, 0.017136282533654776, 0.009494246636012858, 0.025837676512291408, 0.0018788614669973172, -0.014311327651002207, 0.009720775966691781, -0.008481527330114305, 0.0038476684446166758, -0.03397941077770997, -0.004760448682319618, 0.03211387467502584, 0.006619322102847153, 0.020894005467649412, 0.006942459859135369, -0.029688676996478362, -0.0016440037836226527, 0.018508783882041496, -0.007262265808683971, -0.012612357670910292, -0.023039372358265215, -0.021373714857633633, 0.006302847494376849, -0.021533617366746614, -0.030141735657836205, 0.028889160725622903, -0.019734708085628425, -0.002849939707909138, -0.020574198586778173, 0.029741976591085836, 0.017376137228646886, -0.011173229500957631, 0.020134465289733516, -0.012852212365902402, -0.0065060574375076915, 0.029049063234735883, 0.017975773034804524, -0.009334343195577239, -0.026077531207283518, -0.03520533311865162]\n"
          ]
        }
      ]
    },
    {
      "cell_type": "markdown",
      "source": [
        " **Inserting the Embeddings into a Pinecone Index**"
      ],
      "metadata": {
        "id": "VjQwx0gH9QfG"
      }
    },
    {
      "cell_type": "code",
      "source": [
        "import pinecone\n",
        "from langchain.vectorstores import Pinecone\n",
        "pc = pinecone.Pinecone()"
      ],
      "metadata": {
        "id": "nAGEn3oN9QIA"
      },
      "execution_count": null,
      "outputs": []
    },
    {
      "cell_type": "code",
      "source": [
        "for i in pc.list_indexes().names():\n",
        "  print('Deleting all indexes ...', end='')\n",
        "  pc.delete_index(i)\n",
        "  print('Done')"
      ],
      "metadata": {
        "colab": {
          "base_uri": "https://localhost:8080/"
        },
        "id": "k_eKBrNG-UlA",
        "outputId": "5082548b-7d78-4d5b-d405-aa6f17ce6f19"
      },
      "execution_count": null,
      "outputs": [
        {
          "output_type": "stream",
          "name": "stdout",
          "text": [
            "Deleting all indexes ...Done\n",
            "Deleting all indexes ...Done\n"
          ]
        }
      ]
    },
    {
      "cell_type": "code",
      "source": [
        "index_name = 'testfile'\n",
        "if index_name not in pc.list_indexes().names():\n",
        "  print(f'Creating index {index_name} ...')\n",
        "  pc.create_index(\n",
        "      name=index_name,\n",
        "      dimension=1536,\n",
        "      metric='cosine',\n",
        "      spec=pinecone.PodSpec(\n",
        "          environment='gcp-starter'\n",
        "      )\n",
        "  )\n",
        "  print('done..!!!')"
      ],
      "metadata": {
        "colab": {
          "base_uri": "https://localhost:8080/"
        },
        "id": "uFfXVJNg_Gid",
        "outputId": "65532c77-d40d-42d8-86ee-dc45e6493bac"
      },
      "execution_count": null,
      "outputs": [
        {
          "output_type": "stream",
          "name": "stdout",
          "text": [
            "Creating index testfile ...\n",
            "done..!!!\n"
          ]
        }
      ]
    },
    {
      "cell_type": "code",
      "source": [
        "vector_store= Pinecone.from_documents(chunks, embedding, index_name= index_name)"
      ],
      "metadata": {
        "id": "m3iVwQxKHZxc"
      },
      "execution_count": null,
      "outputs": []
    },
    {
      "cell_type": "code",
      "source": [
        "#loading the vector store from an existing index\n",
        "vector_store = Pinecone.from_existing_index(index_name='testfile', embedding=embedding)"
      ],
      "metadata": {
        "id": "9dKpY7ehKe6W"
      },
      "execution_count": null,
      "outputs": []
    },
    {
      "cell_type": "markdown",
      "source": [
        "**Asking Questions (Similarity Search)**"
      ],
      "metadata": {
        "id": "TcJWv_x2LCDQ"
      }
    },
    {
      "cell_type": "code",
      "source": [
        "query = 'what is the first signs of robots?'\n",
        "result = vector_store.similarity_search(query)\n",
        "print(result)"
      ],
      "metadata": {
        "colab": {
          "base_uri": "https://localhost:8080/"
        },
        "id": "OXO6iPg4LLaK",
        "outputId": "ffd6d0ac-6747-43df-dee2-d6427d94b3f6"
      },
      "execution_count": null,
      "outputs": [
        {
          "output_type": "stream",
          "name": "stdout",
          "text": [
            "[]\n"
          ]
        }
      ]
    },
    {
      "cell_type": "code",
      "source": [
        "for r in result:\n",
        "  print(r.page_content)\n",
        "  print('-'*50)"
      ],
      "metadata": {
        "id": "l5cK5-EXMpVx"
      },
      "execution_count": null,
      "outputs": []
    },
    {
      "cell_type": "code",
      "source": [
        "from langchain.chains import RetrievalQA\n",
        "from langchain_openai import ChatOpenAI\n",
        "\n",
        "llm = ChatOpenAI(model= 'gpt-3.5-turbo', temperature = 1)\n",
        "retriever = vector_store. as_retriever(SearchType= 'similarity', search_kwargs= {'k':3})\n",
        "chain = RetrievalQA.from_chain_type(llm=llm, chain_type=\"stuff\", retriever= retriever)"
      ],
      "metadata": {
        "id": "V8HszgCdM-mO"
      },
      "execution_count": null,
      "outputs": []
    },
    {
      "cell_type": "code",
      "source": [
        "query = 'what is the first signs of robots?'\n",
        "data = chain.invoke(query)\n",
        "print(f\"Query: {data['query']}\\nResult: {data['result']}\")\n"
      ],
      "metadata": {
        "colab": {
          "base_uri": "https://localhost:8080/"
        },
        "id": "kz3TtSKKOcKY",
        "outputId": "9a4c642a-6d73-4f61-8bec-ba958b742002"
      },
      "execution_count": null,
      "outputs": [
        {
          "output_type": "stream",
          "name": "stdout",
          "text": [
            "Query: what is the first signs of robots?\n",
            "Result: I'm not sure what you mean by \"the first signs of robots.\" Are you asking about the initial development of robots or how robots are identified or detected? Can you please provide more specific information or clarify your question?\n"
          ]
        }
      ]
    },
    {
      "cell_type": "markdown",
      "source": [
        "**Whisper as TTS**"
      ],
      "metadata": {
        "id": "WJSwG3mSI__e"
      }
    },
    {
      "cell_type": "code",
      "source": [
        "!pip install numpy==1.24.1 pandas==2.0.3 --upgrade\n"
      ],
      "metadata": {
        "colab": {
          "base_uri": "https://localhost:8080/"
        },
        "id": "r3iQ5H4eI_KR",
        "outputId": "9ff7109d-94e7-46a8-9265-27954f54f3ae"
      },
      "execution_count": null,
      "outputs": [
        {
          "output_type": "stream",
          "name": "stdout",
          "text": [
            "Requirement already satisfied: numpy==1.24.1 in /usr/local/lib/python3.10/dist-packages (1.24.1)\n",
            "Requirement already satisfied: pandas==2.0.3 in /usr/local/lib/python3.10/dist-packages (2.0.3)\n",
            "Requirement already satisfied: python-dateutil>=2.8.2 in /usr/local/lib/python3.10/dist-packages (from pandas==2.0.3) (2.8.2)\n",
            "Requirement already satisfied: pytz>=2020.1 in /usr/local/lib/python3.10/dist-packages (from pandas==2.0.3) (2023.4)\n",
            "Requirement already satisfied: tzdata>=2022.1 in /usr/local/lib/python3.10/dist-packages (from pandas==2.0.3) (2024.1)\n",
            "Requirement already satisfied: six>=1.5 in /usr/local/lib/python3.10/dist-packages (from python-dateutil>=2.8.2->pandas==2.0.3) (1.16.0)\n"
          ]
        }
      ]
    },
    {
      "cell_type": "code",
      "source": [
        "!pip install openai gtts TTS -q\n"
      ],
      "metadata": {
        "colab": {
          "base_uri": "https://localhost:8080/"
        },
        "id": "jnhJ9ORkflHr",
        "outputId": "a323e7e5-07d8-4ac8-ddd4-02cbddf4548c"
      },
      "execution_count": null,
      "outputs": [
        {
          "output_type": "stream",
          "name": "stdout",
          "text": [
            "  Preparing metadata (setup.py) ... \u001b[?25l\u001b[?25hdone\n",
            "  Preparing metadata (setup.py) ... \u001b[?25l\u001b[?25hdone\n",
            "  Preparing metadata (setup.py) ... \u001b[?25l\u001b[?25hdone\n",
            "  Preparing metadata (setup.py) ... \u001b[?25l\u001b[?25hdone\n",
            "  Preparing metadata (setup.py) ... \u001b[?25l\u001b[?25hdone\n",
            "  Preparing metadata (setup.py) ... \u001b[?25l\u001b[?25hdone\n",
            "  Preparing metadata (setup.py) ... \u001b[?25l\u001b[?25hdone\n",
            "  Preparing metadata (setup.py) ... \u001b[?25l\u001b[?25hdone\n",
            "  Preparing metadata (setup.py) ... \u001b[?25l\u001b[?25hdone\n",
            "  Preparing metadata (setup.py) ... \u001b[?25l\u001b[?25hdone\n",
            "\u001b[2K     \u001b[90m━━━━━━━━━━━━━━━━━━━━━━━━━━━━━━━━━━━━━━━━\u001b[0m \u001b[32m21.3/21.3 MB\u001b[0m \u001b[31m60.6 MB/s\u001b[0m eta \u001b[36m0:00:00\u001b[0m\n",
            "\u001b[2K     \u001b[90m━━━━━━━━━━━━━━━━━━━━━━━━━━━━━━━━━━━━━━━━\u001b[0m \u001b[32m56.8/56.8 kB\u001b[0m \u001b[31m7.0 MB/s\u001b[0m eta \u001b[36m0:00:00\u001b[0m\n",
            "\u001b[?25h  Building wheel for encodec (setup.py) ... \u001b[?25l\u001b[?25hdone\n",
            "  Building wheel for bnnumerizer (setup.py) ... \u001b[?25l\u001b[?25hdone\n",
            "  Building wheel for bnunicodenormalizer (setup.py) ... \u001b[?25l\u001b[?25hdone\n",
            "  Building wheel for docopt (setup.py) ... \u001b[?25l\u001b[?25hdone\n",
            "  Building wheel for gruut-ipa (setup.py) ... \u001b[?25l\u001b[?25hdone\n",
            "  Building wheel for gruut_lang_de (setup.py) ... \u001b[?25l\u001b[?25hdone\n",
            "  Building wheel for gruut_lang_en (setup.py) ... \u001b[?25l\u001b[?25hdone\n",
            "  Building wheel for gruut_lang_es (setup.py) ... \u001b[?25l\u001b[?25hdone\n",
            "  Building wheel for gruut_lang_fr (setup.py) ... \u001b[?25l\u001b[?25hdone\n",
            "  Building wheel for gruut (setup.py) ... \u001b[?25l\u001b[?25hdone\n",
            "\u001b[31mERROR: pip's dependency resolver does not currently take into account all the packages that are installed. This behaviour is the source of the following dependency conflicts.\n",
            "chex 0.1.86 requires numpy>=1.24.1, but you have numpy 1.22.0 which is incompatible.\n",
            "cudf-cu12 24.4.1 requires numpy<2.0a0,>=1.23, but you have numpy 1.22.0 which is incompatible.\n",
            "cudf-cu12 24.4.1 requires pandas<2.2.2dev0,>=2.0, but you have pandas 1.5.3 which is incompatible.\n",
            "google-colab 1.0.0 requires pandas==2.0.3, but you have pandas 1.5.3 which is incompatible.\n",
            "pandas-stubs 2.0.3.230814 requires numpy>=1.25.0; python_version >= \"3.9\", but you have numpy 1.22.0 which is incompatible.\n",
            "plotnine 0.12.4 requires numpy>=1.23.0, but you have numpy 1.22.0 which is incompatible.\n",
            "pywavelets 1.6.0 requires numpy<3,>=1.22.4, but you have numpy 1.22.0 which is incompatible.\n",
            "rmm-cu12 24.4.0 requires numpy<2.0a0,>=1.23, but you have numpy 1.22.0 which is incompatible.\n",
            "statsmodels 0.14.2 requires numpy>=1.22.3, but you have numpy 1.22.0 which is incompatible.\n",
            "tensorflow 2.15.0 requires numpy<2.0.0,>=1.23.5, but you have numpy 1.22.0 which is incompatible.\u001b[0m\u001b[31m\n",
            "\u001b[0m"
          ]
        }
      ]
    },
    {
      "cell_type": "code",
      "source": [
        "!pip install nest_asyncio\n"
      ],
      "metadata": {
        "colab": {
          "base_uri": "https://localhost:8080/"
        },
        "id": "tYvzWTvqs7I7",
        "outputId": "aa6460c8-131d-494a-989f-7ccf42bca66c"
      },
      "execution_count": null,
      "outputs": [
        {
          "output_type": "stream",
          "name": "stdout",
          "text": [
            "Requirement already satisfied: nest_asyncio in /usr/local/lib/python3.10/dist-packages (1.6.0)\n"
          ]
        }
      ]
    },
    {
      "cell_type": "code",
      "source": [
        "import openai\n",
        "from TTS.api import TTS\n",
        "import os\n",
        "import asyncio\n",
        "from openai import AsyncOpenAI\n",
        "import nest_asyncio\n",
        "\n",
        "# Apply nest_asyncio\n",
        "nest_asyncio.apply()\n",
        "\n",
        "# Replace 'your-api-key' with your actual OpenAI API key\n",
        "openai.api_key = '---'\n",
        "\n",
        "# Initialize the AsyncOpenAI client\n",
        "client = AsyncOpenAI()\n",
        "\n",
        "async def generate_text(prompt):\n",
        "    response = await client.chat.completions.create(\n",
        "        model=\"gpt-4\",\n",
        "        messages=[\n",
        "            {\"role\": \"system\", \"content\": \"You are a helpful assistant.\"},\n",
        "            {\"role\": \"user\", \"content\": prompt}\n",
        "        ]\n",
        "    )\n",
        "    return response.choices[0].message.content.strip()\n",
        "\n",
        "def text_to_speech(text, filename=\"output.wav\"):\n",
        "    model_name = \"tts_models/en/ljspeech/tacotron2-DDC\"\n",
        "    tts = TTS(model_name=model_name, progress_bar=True, gpu=False)\n",
        "    tts.tts_to_file(text=text, file_path=filename)\n",
        "    return filename\n",
        "\n",
        "async def chat_with_speaking_ai(prompt):\n",
        "    # Generate response from OpenAI\n",
        "    response_text = await generate_text(prompt)\n",
        "    print(\"Generated Text:\", response_text)\n",
        "\n",
        "    # Convert response text to speech\n",
        "    audio_file = text_to_speech(response_text)\n",
        "    print(f\"Audio saved as {audio_file}\")\n",
        "\n",
        "    # Play the audio file\n",
        "    if os.name == 'posix':\n",
        "        os.system(f\"mpg321 {audio_file}\")\n",
        "    elif os.name == 'nt':\n",
        "        os.system(f\"start {audio_file}\")\n",
        "\n",
        "if __name__ == \"__main__\":\n",
        "    prompt = \"Explain the principles of AI and robotics in simple terms.\"\n",
        "    asyncio.run(chat_with_speaking_ai(prompt))\n"
      ],
      "metadata": {
        "colab": {
          "base_uri": "https://localhost:8080/"
        },
        "id": "KKvCxqJ6tdSK",
        "outputId": "8f48caa5-6e22-48b1-d735-cd23e6dbef1c"
      },
      "execution_count": null,
      "outputs": [
        {
          "output_type": "stream",
          "name": "stdout",
          "text": [
            "Generated Text: Sure, I'd be happy to explain that in simplistic terms.\n",
            "\n",
            "1. Artificial Intelligence (AI): This is like teaching a computer or machine how to mimic human intelligence. So, it's not just about following a set of instructions like in traditional programming, it's about understanding, learning, and improving over time. AI involves processes like learning (the acquisition of information and rules for using the information), reasoning (using the rules to reach approximate or definite conclusions) and self-correction.\n",
            "\n",
            "   AI is generally categorized as either narrow (or weak), where the AI is designed to perform a narrow task like voice recognition, or general (or strong) AI, where the systems can perform any intellectual task that a human being can.\n",
            "\n",
            "2. Robotics: This is a field overlapping with AI, stressing more on creating physical machines that can carry out tasks. Imagine you have a dog and you teach it tricks - sit, fetch, roll over, etc. Robots are similar, except they learn how to do these tasks from programming and algorithms rather than direct teaching. They can work in places that are unsafe for humans like factories with heavy machinery or dangerous chemicals, conduct complex surgeries in health care, or exploration in space.\n",
            "\n",
            "A major principle of robotics is automation - the ability to perform tasks with minimal human intervention. \n",
            "\n",
            "AI and Robotics both work on data. The difference is that while AI involves algorithm and codes to handle the data and come up with intelligent responses, Robotics involves mechanical components moving and performing tasks based on that intelligent data. These two can also work together – Robotic Process Automation (RPA) for instance, is a technology that uses AI for handling repetitive tasks. \n",
            "\n",
            "Remember, all robots are not AI systems (like a remote-controlled robot doesn't learn, it just does what the controls say), but all AI robots are robots (since they carry tasks based on AI).\n",
            " > Downloading model to /root/.local/share/tts/tts_models--en--ljspeech--tacotron2-DDC\n"
          ]
        },
        {
          "output_type": "stream",
          "name": "stderr",
          "text": [
            " 97%|█████████▋| 109M/113M [00:01<00:00, 65.3MiB/s]"
          ]
        },
        {
          "output_type": "stream",
          "name": "stdout",
          "text": [
            " > Model's license - apache 2.0\n",
            " > Check https://choosealicense.com/licenses/apache-2.0/ for more info.\n",
            " > Downloading model to /root/.local/share/tts/vocoder_models--en--ljspeech--hifigan_v2\n"
          ]
        },
        {
          "output_type": "stream",
          "name": "stderr",
          "text": [
            "\n",
            "100%|██████████| 113M/113M [00:06<00:00, 17.9MiB/s]\n",
            "\n",
            " 24%|██▎       | 900k/3.80M [00:00<00:00, 8.95MiB/s]\u001b[A\n",
            " 66%|██████▌   | 2.50M/3.80M [00:00<00:00, 13.1MiB/s]\u001b[A"
          ]
        },
        {
          "output_type": "stream",
          "name": "stdout",
          "text": [
            " > Model's license - apache 2.0\n",
            " > Check https://choosealicense.com/licenses/apache-2.0/ for more info.\n",
            " > Using model: Tacotron2\n",
            " > Setting up Audio Processor...\n",
            " | > sample_rate:22050\n",
            " | > resample:False\n",
            " | > num_mels:80\n",
            " | > log_func:np.log\n",
            " | > min_level_db:-100\n",
            " | > frame_shift_ms:None\n",
            " | > frame_length_ms:None\n",
            " | > ref_level_db:20\n",
            " | > fft_size:1024\n",
            " | > power:1.5\n",
            " | > preemphasis:0.0\n",
            " | > griffin_lim_iters:60\n",
            " | > signal_norm:False\n",
            " | > symmetric_norm:True\n",
            " | > mel_fmin:0\n",
            " | > mel_fmax:8000.0\n",
            " | > pitch_fmin:1.0\n",
            " | > pitch_fmax:640.0\n",
            " | > spec_gain:1.0\n",
            " | > stft_pad_mode:reflect\n",
            " | > max_norm:4.0\n",
            " | > clip_norm:True\n",
            " | > do_trim_silence:True\n",
            " | > trim_db:60\n",
            " | > do_sound_norm:False\n",
            " | > do_amp_to_db_linear:True\n",
            " | > do_amp_to_db_mel:True\n",
            " | > do_rms_norm:False\n",
            " | > db_level:None\n",
            " | > stats_path:None\n",
            " | > base:2.718281828459045\n",
            " | > hop_length:256\n",
            " | > win_length:1024\n",
            " > Model's reduction rate `r` is set to: 1\n",
            " > Vocoder Model: hifigan\n",
            " > Setting up Audio Processor...\n",
            " | > sample_rate:22050\n",
            " | > resample:False\n",
            " | > num_mels:80\n",
            " | > log_func:np.log\n",
            " | > min_level_db:-100\n",
            " | > frame_shift_ms:None\n",
            " | > frame_length_ms:None\n",
            " | > ref_level_db:20\n",
            " | > fft_size:1024\n",
            " | > power:1.5\n",
            " | > preemphasis:0.0\n",
            " | > griffin_lim_iters:60\n",
            " | > signal_norm:False\n",
            " | > symmetric_norm:True\n",
            " | > mel_fmin:0\n",
            " | > mel_fmax:8000.0\n",
            " | > pitch_fmin:1.0\n",
            " | > pitch_fmax:640.0\n",
            " | > spec_gain:1.0\n",
            " | > stft_pad_mode:reflect\n",
            " | > max_norm:4.0\n",
            " | > clip_norm:True\n",
            " | > do_trim_silence:False\n",
            " | > trim_db:60\n",
            " | > do_sound_norm:False\n",
            " | > do_amp_to_db_linear:True\n",
            " | > do_amp_to_db_mel:True\n",
            " | > do_rms_norm:False\n",
            " | > db_level:None\n",
            " | > stats_path:None\n",
            " | > base:2.718281828459045\n",
            " | > hop_length:256\n",
            " | > win_length:1024\n",
            " > Generator Model: hifigan_generator\n",
            " > Discriminator Model: hifigan_discriminator\n",
            "Removing weight norm...\n",
            " > Text splitted to sentences.\n",
            "[\"Sure, I'd be happy to explain that in simplistic terms.\", '1. Artificial Intelligence (AI): This is like teaching a computer or machine how to mimic human intelligence.', \"So, it's not just about following a set of instructions like in traditional programming, it's about understanding, learning, and improving over time.\", 'AI involves processes like learning (the acquisition of information and rules for using the information), reasoning (using the rules to reach approximate or definite conclusions) and self-correction.', 'AI is generally categorized as either narrow (or weak), where the AI is designed to perform a narrow task like voice recognition, or general (or strong) AI, where the systems can perform any intellectual task that a human being can.', '2. Robotics: This is a field overlapping with AI, stressing more on creating physical machines that can carry out tasks.', 'Imagine you have a dog and you teach it tricks - sit, fetch, roll over, etc.', 'Robots are similar, except they learn how to do these tasks from programming and algorithms rather than direct teaching.', 'They can work in places that are unsafe for humans like factories with heavy machinery or dangerous chemicals, conduct complex surgeries in health care, or exploration in space.', 'A major principle of robotics is automation - the ability to perform tasks with minimal human intervention.', 'AI and Robotics both work on data.', 'The difference is that while AI involves algorithm and codes to handle the data and come up with intelligent responses, Robotics involves mechanical components moving and performing tasks based on that intelligent data.', 'These two can also work together – Robotic Process Automation (RPA) for instance, is a technology that uses AI for handling repetitive tasks.', \"Remember, all robots are not AI systems (like a remote-controlled robot doesn't learn, it just does what the controls say), but all AI robots are robots (since they carry tasks based on AI).\"]\n"
          ]
        },
        {
          "output_type": "stream",
          "name": "stderr",
          "text": [
            "\n",
            "100%|██████████| 3.80M/3.80M [00:13<00:00, 13.1MiB/s]\u001b[A"
          ]
        },
        {
          "output_type": "stream",
          "name": "stdout",
          "text": [
            "these two can also work together – robotic process automation rpa for instance, is a technology that uses ai for handling repetitive tasks.\n",
            " [!] Character '–' not found in the vocabulary. Discarding it.\n",
            " > Processing time: 478.18121361732483\n",
            " > Real-time factor: 3.34857816144664\n",
            "Audio saved as output.wav\n"
          ]
        }
      ]
    }
  ]
}
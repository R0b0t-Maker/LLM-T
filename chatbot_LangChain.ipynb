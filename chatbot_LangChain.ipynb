{
  "nbformat": 4,
  "nbformat_minor": 0,
  "metadata": {
    "colab": {
      "provenance": [],
      "authorship_tag": "ABX9TyN0D4HTPzcVf4yaC3zWslwp",
      "include_colab_link": true
    },
    "kernelspec": {
      "name": "python3",
      "display_name": "Python 3"
    },
    "language_info": {
      "name": "python"
    }
  },
  "cells": [
    {
      "cell_type": "markdown",
      "metadata": {
        "id": "view-in-github",
        "colab_type": "text"
      },
      "source": [
        "<a href=\"https://colab.research.google.com/github/R0b0t-Maker/LLM-T/blob/main/chatbot_LangChain.ipynb\" target=\"_parent\"><img src=\"https://colab.research.google.com/assets/colab-badge.svg\" alt=\"Open In Colab\"/></a>"
      ]
    },
    {
      "cell_type": "code",
      "execution_count": 1,
      "metadata": {
        "colab": {
          "base_uri": "https://localhost:8080/"
        },
        "id": "g3IA2GjvP77S",
        "outputId": "6ace3694-cc12-4b07-dbd8-de1000032a3a"
      },
      "outputs": [
        {
          "output_type": "stream",
          "name": "stdout",
          "text": [
            "Mounted at /content/drive\n"
          ]
        }
      ],
      "source": [
        "from google.colab import drive\n",
        "drive.mount('/content/drive')"
      ]
    },
    {
      "cell_type": "code",
      "source": [
        "!pip install -r \"/content/drive/MyDrive/Udemy/LangChain/p-1/requirements.txt\" -q"
      ],
      "metadata": {
        "id": "29i1DIhZXXaQ",
        "outputId": "214c2c6d-f5a8-4b5c-fa8f-69a5fbb8f96e",
        "colab": {
          "base_uri": "https://localhost:8080/"
        }
      },
      "execution_count": 2,
      "outputs": [
        {
          "output_type": "stream",
          "name": "stdout",
          "text": [
            "\u001b[2K     \u001b[90m━━━━━━━━━━━━━━━━━━━━━━━━━━━━━━━━━━━━━━━━\u001b[0m \u001b[32m320.1/320.1 kB\u001b[0m \u001b[31m5.3 MB/s\u001b[0m eta \u001b[36m0:00:00\u001b[0m\n",
            "\u001b[2K     \u001b[90m━━━━━━━━━━━━━━━━━━━━━━━━━━━━━━━━━━━━━━━━\u001b[0m \u001b[32m1.0/1.0 MB\u001b[0m \u001b[31m10.8 MB/s\u001b[0m eta \u001b[36m0:00:00\u001b[0m\n",
            "\u001b[2K     \u001b[90m━━━━━━━━━━━━━━━━━━━━━━━━━━━━━━━━━━━━━━━━\u001b[0m \u001b[32m199.4/199.4 kB\u001b[0m \u001b[31m9.0 MB/s\u001b[0m eta \u001b[36m0:00:00\u001b[0m\n",
            "\u001b[2K     \u001b[90m━━━━━━━━━━━━━━━━━━━━━━━━━━━━━━━━━━━━━━━━\u001b[0m \u001b[32m214.5/214.5 kB\u001b[0m \u001b[31m11.2 MB/s\u001b[0m eta \u001b[36m0:00:00\u001b[0m\n",
            "\u001b[2K     \u001b[90m━━━━━━━━━━━━━━━━━━━━━━━━━━━━━━━━━━━━━━━━\u001b[0m \u001b[32m1.8/1.8 MB\u001b[0m \u001b[31m16.6 MB/s\u001b[0m eta \u001b[36m0:00:00\u001b[0m\n",
            "\u001b[?25h  Preparing metadata (setup.py) ... \u001b[?25l\u001b[?25hdone\n",
            "\u001b[2K     \u001b[90m━━━━━━━━━━━━━━━━━━━━━━━━━━━━━━━━━━━━━━━━\u001b[0m \u001b[32m290.4/290.4 kB\u001b[0m \u001b[31m18.2 MB/s\u001b[0m eta \u001b[36m0:00:00\u001b[0m\n",
            "\u001b[2K     \u001b[90m━━━━━━━━━━━━━━━━━━━━━━━━━━━━━━━━━━━━━━━━\u001b[0m \u001b[32m75.6/75.6 kB\u001b[0m \u001b[31m9.3 MB/s\u001b[0m eta \u001b[36m0:00:00\u001b[0m\n",
            "\u001b[2K     \u001b[90m━━━━━━━━━━━━━━━━━━━━━━━━━━━━━━━━━━━━━━━━\u001b[0m \u001b[32m2.0/2.0 MB\u001b[0m \u001b[31m22.7 MB/s\u001b[0m eta \u001b[36m0:00:00\u001b[0m\n",
            "\u001b[2K     \u001b[90m━━━━━━━━━━━━━━━━━━━━━━━━━━━━━━━━━━━━━━━━\u001b[0m \u001b[32m302.9/302.9 kB\u001b[0m \u001b[31m25.0 MB/s\u001b[0m eta \u001b[36m0:00:00\u001b[0m\n",
            "\u001b[2K     \u001b[90m━━━━━━━━━━━━━━━━━━━━━━━━━━━━━━━━━━━━━━━━\u001b[0m \u001b[32m120.8/120.8 kB\u001b[0m \u001b[31m15.0 MB/s\u001b[0m eta \u001b[36m0:00:00\u001b[0m\n",
            "\u001b[2K     \u001b[90m━━━━━━━━━━━━━━━━━━━━━━━━━━━━━━━━━━━━━━━━\u001b[0m \u001b[32m49.3/49.3 kB\u001b[0m \u001b[31m5.6 MB/s\u001b[0m eta \u001b[36m0:00:00\u001b[0m\n",
            "\u001b[2K     \u001b[90m━━━━━━━━━━━━━━━━━━━━━━━━━━━━━━━━━━━━━━━━\u001b[0m \u001b[32m77.9/77.9 kB\u001b[0m \u001b[31m9.1 MB/s\u001b[0m eta \u001b[36m0:00:00\u001b[0m\n",
            "\u001b[2K     \u001b[90m━━━━━━━━━━━━━━━━━━━━━━━━━━━━━━━━━━━━━━━━\u001b[0m \u001b[32m58.3/58.3 kB\u001b[0m \u001b[31m6.7 MB/s\u001b[0m eta \u001b[36m0:00:00\u001b[0m\n",
            "\u001b[2K     \u001b[90m━━━━━━━━━━━━━━━━━━━━━━━━━━━━━━━━━━━━━━━━\u001b[0m \u001b[32m53.0/53.0 kB\u001b[0m \u001b[31m5.8 MB/s\u001b[0m eta \u001b[36m0:00:00\u001b[0m\n",
            "\u001b[2K     \u001b[90m━━━━━━━━━━━━━━━━━━━━━━━━━━━━━━━━━━━━━━━━\u001b[0m \u001b[32m142.5/142.5 kB\u001b[0m \u001b[31m15.7 MB/s\u001b[0m eta \u001b[36m0:00:00\u001b[0m\n",
            "\u001b[?25h  Building wheel for docx2txt (setup.py) ... \u001b[?25l\u001b[?25hdone\n"
          ]
        }
      ]
    },
    {
      "cell_type": "code",
      "source": [
        "# !pip show openai"
      ],
      "metadata": {
        "id": "V0l5iguyYiiC"
      },
      "execution_count": 3,
      "outputs": []
    },
    {
      "cell_type": "code",
      "source": [
        "!pip install --quiet openai python-dotenv\n"
      ],
      "metadata": {
        "id": "O48scuZCmsqW"
      },
      "execution_count": 4,
      "outputs": []
    },
    {
      "cell_type": "code",
      "source": [
        "import os\n",
        "from dotenv import load_dotenv, find_dotenv\n",
        "\n",
        "load_dotenv(\"/content/drive/MyDrive/Udemy/LangChain/p-1/.env\", override=True)"
      ],
      "metadata": {
        "colab": {
          "base_uri": "https://localhost:8080/"
        },
        "id": "qR_9JiDskM6Q",
        "outputId": "e8e04017-c887-46ff-e41a-82e8a8d18255"
      },
      "execution_count": 6,
      "outputs": [
        {
          "output_type": "execute_result",
          "data": {
            "text/plain": [
              "True"
            ]
          },
          "metadata": {},
          "execution_count": 6
        }
      ]
    },
    {
      "cell_type": "code",
      "source": [
        "# os.environ.get(\"OPENAI_API_KEY\")"
      ],
      "metadata": {
        "id": "VkId88TFtCYx",
        "outputId": "c9f4f57c-3364-47d4-c886-1b2b64f57151",
        "colab": {
          "base_uri": "https://localhost:8080/",
          "height": 35
        }
      },
      "execution_count": 7,
      "outputs": [
        {
          "output_type": "execute_result",
          "data": {
            "text/plain": [
              "'sk-proj-zBsnjqxgt9yHxtKDgMyoT3BlbkFJ3KhQ4K6WLoKALzBG9cgt'"
            ],
            "application/vnd.google.colaboratory.intrinsic+json": {
              "type": "string"
            }
          },
          "metadata": {},
          "execution_count": 7
        }
      ]
    },
    {
      "cell_type": "code",
      "source": [
        "from langchain_openai import ChatOpenAI\n",
        "\n",
        "llm= ChatOpenAI()\n",
        "llm.invoke('What is AI model?')"
      ],
      "metadata": {
        "id": "vpPkygxOtKyp",
        "outputId": "7b0f510c-8686-467c-c002-4f0782b695aa",
        "colab": {
          "base_uri": "https://localhost:8080/"
        }
      },
      "execution_count": 11,
      "outputs": [
        {
          "output_type": "execute_result",
          "data": {
            "text/plain": [
              "AIMessage(content='An AI model is a mathematical algorithm or statistical model created using machine learning techniques that is used to make predictions or decisions based on input data. AI models are used in a wide range of applications, including natural language processing, image recognition, and autonomous vehicles. These models can be trained on large datasets to learn patterns and relationships in the data, allowing them to make accurate predictions on new, unseen data.', response_metadata={'token_usage': {'completion_tokens': 80, 'prompt_tokens': 12, 'total_tokens': 92}, 'model_name': 'gpt-3.5-turbo', 'system_fingerprint': None, 'finish_reason': 'stop', 'logprobs': None}, id='run-3080dbb7-1a11-4dab-ab16-655c16e9c1c4-0')"
            ]
          },
          "metadata": {},
          "execution_count": 11
        }
      ]
    },
    {
      "cell_type": "code",
      "source": [
        "output = llm.invoke('What is A model?')\n",
        "print(output.content)"
      ],
      "metadata": {
        "id": "1UXL81b4uFBx",
        "outputId": "99f814bc-6887-4d3d-8528-e19364fae7a0",
        "colab": {
          "base_uri": "https://localhost:8080/"
        }
      },
      "execution_count": 13,
      "outputs": [
        {
          "output_type": "stream",
          "name": "stdout",
          "text": [
            "A model is a simplified representation of a system, process, or concept that is used to help understand, analyze, or predict how it works. Models can be physical objects, mathematical equations, computer simulations, or other types of representations that capture the essential features of the system being studied. Models are commonly used in science, engineering, economics, and many other fields to make predictions, test hypotheses, and gain insights into complex systems.\n"
          ]
        }
      ]
    },
    {
      "cell_type": "code",
      "source": [
        "help(ChatOpenAI)"
      ],
      "metadata": {
        "id": "VwFvIIlVuulR"
      },
      "execution_count": null,
      "outputs": []
    },
    {
      "cell_type": "code",
      "source": [
        "output_2=llm.invoke('What is AI model?', model = 'gpt-4-turbo-preview')\n",
        "print(output_2.content)"
      ],
      "metadata": {
        "id": "nij74sPWvasQ",
        "outputId": "4ec78435-c031-4342-bb06-18f2277bb880",
        "colab": {
          "base_uri": "https://localhost:8080/"
        }
      },
      "execution_count": 17,
      "outputs": [
        {
          "output_type": "stream",
          "name": "stdout",
          "text": [
            "An AI model refers to a computational structure designed to perform tasks that typically require human intelligence. These tasks can include recognizing patterns, making decisions, understanding natural language, and learning from experience. The model is built on algorithms and trained using large datasets to improve its accuracy and efficiency in executing specific functions.\n",
            "\n",
            "AI models can be categorized into different types based on their functionality and the algorithms they use. Some common categories include:\n",
            "\n",
            "1. **Machine Learning (ML) Models:** These models learn from data and make predictions or decisions without being explicitly programmed for the task. They improve their performance as they are exposed to more data over time.\n",
            "\n",
            "2. **Deep Learning Models:** A subset of ML, these models are based on artificial neural networks with many layers (hence \"deep\"). They are particularly powerful in tasks related to image and speech recognition, natural language processing, and other areas that involve large amounts of data.\n",
            "\n",
            "3. **Natural Language Processing (NLP) Models:** These models are focused on the interaction between computers and humans using natural language. They are used for tasks such as machine translation, sentiment analysis, and chatbots.\n",
            "\n",
            "4. **Reinforcement Learning Models:** These models learn to make decisions by taking certain actions within an environment to achieve a goal. They learn from the consequences of their actions, adjusting their strategies to maximize some notion of cumulative reward.\n",
            "\n",
            "The creation of an AI model involves several steps, including defining the problem, selecting the appropriate algorithms, gathering and preprocessing data, training the model, and evaluating its performance. Once trained, the model can be deployed to perform the designated task in real-world applications.\n",
            "\n",
            "AI models are at the heart of many modern technologies and services, from recommendation systems on streaming platforms and e-commerce sites to autonomous vehicles, healthcare diagnostics, and beyond. As AI technology advances, these models are becoming increasingly sophisticated, enabling more complex and nuanced applications.\n"
          ]
        }
      ]
    },
    {
      "cell_type": "code",
      "source": [
        "from langchain.schema import (\n",
        "    SystemMessage,\n",
        "    AIMessage,\n",
        "    HumanMessage\n",
        ")\n",
        "\n",
        "messages = [\n",
        "    SystemMessage (content = 'You are an expert crypto trader and you answer the question percisely and meticolously.'),\n",
        "    HumanMessage (content = 'What is the future of the cypto market?')\n",
        "    ]\n",
        "\n",
        "output_3 = llm.invoke (messages)\n",
        "print(output_3.content)"
      ],
      "metadata": {
        "id": "75BfUkCXw0XA",
        "outputId": "d5e20286-10af-4313-90da-190e987b85c0",
        "colab": {
          "base_uri": "https://localhost:8080/"
        }
      },
      "execution_count": 19,
      "outputs": [
        {
          "output_type": "stream",
          "name": "stdout",
          "text": [
            "Predicting the future of the crypto market is inherently uncertain due to its complex and volatile nature. However, there are several trends and factors that can provide insights into potential future developments:\n",
            "\n",
            "1. **Increased Institutional Adoption:** As more institutional players such as banks, hedge funds, and corporations enter the crypto space, it is likely to bring increased liquidity and stability to the market.\n",
            "\n",
            "2. **Regulatory Environment:** Regulatory developments can have a significant impact on the crypto market. Clearer regulations may attract more mainstream investors, while stricter regulations could lead to market corrections.\n",
            "\n",
            "3. **Technological Advancements:** Continued advancements in blockchain technology, scalability solutions, and interoperability may drive further innovation and adoption in the crypto space.\n",
            "\n",
            "4. **Market Maturity:** As the market matures, we may see a consolidation of projects with real-world utility and value, leading to a more sustainable and resilient market over time.\n",
            "\n",
            "5. **Market Cycles:** The crypto market is known for its boom and bust cycles. It is important to remain cautious of market cycles and be prepared for potential corrections or bear markets.\n",
            "\n",
            "In conclusion, while the future of the crypto market holds great potential for growth and innovation, it is important to approach investments in cryptocurrencies with careful consideration of market dynamics, risk management strategies, and a long-term perspective.\n"
          ]
        }
      ]
    },
    {
      "cell_type": "markdown",
      "source": [
        "In Memory Cache"
      ],
      "metadata": {
        "id": "Dn2OODLW4GbW"
      }
    },
    {
      "cell_type": "code",
      "source": [
        "from langchain.globals import set_llm_cache\n",
        "from langchain_openai import OpenAI\n",
        "\n",
        "llm = OpenAI(model= 'gpt-3.5-turbo-instruct')"
      ],
      "metadata": {
        "id": "4JqxyEM84OGO"
      },
      "execution_count": 20,
      "outputs": []
    },
    {
      "cell_type": "code",
      "source": [
        "# measure the execution time\n",
        "%%time\n",
        "from langchain.cache import InMemoryCache\n",
        "set_llm_cache(InMemoryCache())\n",
        "prompt = 'what is a robot?'\n",
        "llm.invoke (prompt)"
      ],
      "metadata": {
        "id": "l-flMBYW4-0t",
        "outputId": "37f8ec31-6aa0-45e0-94bb-5423dfdf4150",
        "colab": {
          "base_uri": "https://localhost:8080/",
          "height": 122
        }
      },
      "execution_count": 22,
      "outputs": [
        {
          "output_type": "stream",
          "name": "stdout",
          "text": [
            "CPU times: user 26.3 ms, sys: 1.63 ms, total: 27.9 ms\n",
            "Wall time: 2.39 s\n"
          ]
        },
        {
          "output_type": "execute_result",
          "data": {
            "text/plain": [
              "'\\n\\nA robot is a machine that is designed to perform tasks automatically, typically with some level of autonomy or intelligence. It can be programmed to carry out specific actions and may be equipped with sensors, actuators, and other components to interact with its environment. Robots are used in a wide range of industries, including manufacturing, healthcare, and transportation, and can perform tasks that are dangerous, repetitive, or precise. They can be autonomous or controlled by a human operator, and can range from simple machines to highly advanced systems with artificial intelligence.'"
            ],
            "application/vnd.google.colaboratory.intrinsic+json": {
              "type": "string"
            }
          },
          "metadata": {},
          "execution_count": 22
        }
      ]
    },
    {
      "cell_type": "code",
      "source": [
        "%%time\n",
        "llm.invoke (prompt)"
      ],
      "metadata": {
        "id": "NEp5ImIx6o7F",
        "outputId": "19254112-e1de-4139-db47-f44248709664",
        "colab": {
          "base_uri": "https://localhost:8080/",
          "height": 122
        }
      },
      "execution_count": 23,
      "outputs": [
        {
          "output_type": "stream",
          "name": "stdout",
          "text": [
            "CPU times: user 777 µs, sys: 0 ns, total: 777 µs\n",
            "Wall time: 786 µs\n"
          ]
        },
        {
          "output_type": "execute_result",
          "data": {
            "text/plain": [
              "'\\n\\nA robot is a machine that is designed to perform tasks automatically, typically with some level of autonomy or intelligence. It can be programmed to carry out specific actions and may be equipped with sensors, actuators, and other components to interact with its environment. Robots are used in a wide range of industries, including manufacturing, healthcare, and transportation, and can perform tasks that are dangerous, repetitive, or precise. They can be autonomous or controlled by a human operator, and can range from simple machines to highly advanced systems with artificial intelligence.'"
            ],
            "application/vnd.google.colaboratory.intrinsic+json": {
              "type": "string"
            }
          },
          "metadata": {},
          "execution_count": 23
        }
      ]
    },
    {
      "cell_type": "markdown",
      "source": [
        "SQLite chching"
      ],
      "metadata": {
        "id": "3um07Zpt66Ic"
      }
    },
    {
      "cell_type": "code",
      "source": [
        "from langchain.cache import SQLiteCache\n",
        "set_llm_cache (SQLiteCache(database_path= '.langchain.db' ))\n",
        "\n",
        "# longer time response\n",
        "llm.invoke (prompt)\n",
        "\n",
        "# shorter time response\n",
        "\n",
        "llm.invoke (prompt)"
      ],
      "metadata": {
        "id": "9sRWLmvn640k",
        "outputId": "26227fd4-4f25-49ca-89d7-574b490a643a",
        "colab": {
          "base_uri": "https://localhost:8080/",
          "height": 70
        }
      },
      "execution_count": 25,
      "outputs": [
        {
          "output_type": "execute_result",
          "data": {
            "text/plain": [
              "'\\n\\nA robot is a machine that can perform certain tasks automatically, often with some level of autonomy. Robots can be programmed to perform a variety of functions, from simple repetitive tasks to complex actions that require decision-making and problem-solving abilities. They can be controlled remotely or operate autonomously using sensors and algorithms. Robots are used in many industries, such as manufacturing, healthcare, transportation, and entertainment, to increase efficiency, accuracy, and safety.'"
            ],
            "application/vnd.google.colaboratory.intrinsic+json": {
              "type": "string"
            }
          },
          "metadata": {},
          "execution_count": 25
        }
      ]
    },
    {
      "cell_type": "markdown",
      "source": [
        "LLM Streaming"
      ],
      "metadata": {
        "id": "ddmyxkgEQqnu"
      }
    },
    {
      "cell_type": "code",
      "source": [],
      "metadata": {
        "id": "DtYaM6tXQs2t"
      },
      "execution_count": null,
      "outputs": []
    }
  ]
}
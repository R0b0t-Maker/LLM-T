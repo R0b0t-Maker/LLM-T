{
  "nbformat": 4,
  "nbformat_minor": 0,
  "metadata": {
    "colab": {
      "provenance": [],
      "mount_file_id": "1jxPLv-A2k3XjFWL7O7WH_1lTpYRXNZlx",
      "authorship_tag": "ABX9TyN117++Fke0hFrmIcBOKppF",
      "include_colab_link": true
    },
    "kernelspec": {
      "name": "python3",
      "display_name": "Python 3"
    },
    "language_info": {
      "name": "python"
    }
  },
  "cells": [
    {
      "cell_type": "markdown",
      "metadata": {
        "id": "view-in-github",
        "colab_type": "text"
      },
      "source": [
        "<a href=\"https://colab.research.google.com/github/R0b0t-Maker/LLM-T/blob/main/T1_OpenAI_API.ipynb\" target=\"_parent\"><img src=\"https://colab.research.google.com/assets/colab-badge.svg\" alt=\"Open In Colab\"/></a>"
      ]
    },
    {
      "cell_type": "code",
      "execution_count": 1,
      "metadata": {
        "colab": {
          "base_uri": "https://localhost:8080/"
        },
        "id": "GvbXzkNcV0jW",
        "outputId": "cef9b8c4-c489-4a04-a974-441c383dd164"
      },
      "outputs": [
        {
          "output_type": "stream",
          "name": "stdout",
          "text": [
            "Collecting openai==0.28\n",
            "  Downloading openai-0.28.0-py3-none-any.whl (76 kB)\n",
            "\u001b[?25l     \u001b[90m━━━━━━━━━━━━━━━━━━━━━━━━━━━━━━━━━━━━━━━━\u001b[0m \u001b[32m0.0/76.5 kB\u001b[0m \u001b[31m?\u001b[0m eta \u001b[36m-:--:--\u001b[0m\r\u001b[2K     \u001b[91m━━━━━━━━━━━━━━━━━━━━━━━━━━━━━━━━━━━━━\u001b[0m\u001b[90m╺\u001b[0m\u001b[90m━━\u001b[0m \u001b[32m71.7/76.5 kB\u001b[0m \u001b[31m2.6 MB/s\u001b[0m eta \u001b[36m0:00:01\u001b[0m\r\u001b[2K     \u001b[90m━━━━━━━━━━━━━━━━━━━━━━━━━━━━━━━━━━━━━━━━\u001b[0m \u001b[32m76.5/76.5 kB\u001b[0m \u001b[31m1.8 MB/s\u001b[0m eta \u001b[36m0:00:00\u001b[0m\n",
            "\u001b[?25hRequirement already satisfied: requests>=2.20 in /usr/local/lib/python3.10/dist-packages (from openai==0.28) (2.31.0)\n",
            "Requirement already satisfied: tqdm in /usr/local/lib/python3.10/dist-packages (from openai==0.28) (4.66.2)\n",
            "Requirement already satisfied: aiohttp in /usr/local/lib/python3.10/dist-packages (from openai==0.28) (3.9.5)\n",
            "Requirement already satisfied: charset-normalizer<4,>=2 in /usr/local/lib/python3.10/dist-packages (from requests>=2.20->openai==0.28) (3.3.2)\n",
            "Requirement already satisfied: idna<4,>=2.5 in /usr/local/lib/python3.10/dist-packages (from requests>=2.20->openai==0.28) (3.7)\n",
            "Requirement already satisfied: urllib3<3,>=1.21.1 in /usr/local/lib/python3.10/dist-packages (from requests>=2.20->openai==0.28) (2.0.7)\n",
            "Requirement already satisfied: certifi>=2017.4.17 in /usr/local/lib/python3.10/dist-packages (from requests>=2.20->openai==0.28) (2024.2.2)\n",
            "Requirement already satisfied: aiosignal>=1.1.2 in /usr/local/lib/python3.10/dist-packages (from aiohttp->openai==0.28) (1.3.1)\n",
            "Requirement already satisfied: attrs>=17.3.0 in /usr/local/lib/python3.10/dist-packages (from aiohttp->openai==0.28) (23.2.0)\n",
            "Requirement already satisfied: frozenlist>=1.1.1 in /usr/local/lib/python3.10/dist-packages (from aiohttp->openai==0.28) (1.4.1)\n",
            "Requirement already satisfied: multidict<7.0,>=4.5 in /usr/local/lib/python3.10/dist-packages (from aiohttp->openai==0.28) (6.0.5)\n",
            "Requirement already satisfied: yarl<2.0,>=1.0 in /usr/local/lib/python3.10/dist-packages (from aiohttp->openai==0.28) (1.9.4)\n",
            "Requirement already satisfied: async-timeout<5.0,>=4.0 in /usr/local/lib/python3.10/dist-packages (from aiohttp->openai==0.28) (4.0.3)\n",
            "Installing collected packages: openai\n",
            "Successfully installed openai-0.28.0\n"
          ]
        }
      ],
      "source": [
        "# !pip install openai\n",
        "# !pip install --upgrade openai\n",
        "!pip install openai==0.28"
      ]
    },
    {
      "cell_type": "code",
      "source": [
        "# from google.colab import drive\n",
        "# drive.mount('/content/drive/')"
      ],
      "metadata": {
        "id": "BLnrnEytXhng"
      },
      "execution_count": null,
      "outputs": []
    },
    {
      "cell_type": "code",
      "source": [
        "import openai\n",
        "import time\n",
        "from google.colab import userdata\n",
        "\n",
        "openai.api_key = userdata.get('sk-t1')\n",
        "\n",
        "\n",
        "chat_completion = openai.ChatCompletion.create(model=\"gpt-3.5-turbo\",\n",
        "                                messages=[{\"role\": \"user\", \"content\": \"The sky is\"}])"
      ],
      "metadata": {
        "id": "48v-lSWNbOIR"
      },
      "execution_count": 12,
      "outputs": []
    },
    {
      "cell_type": "code",
      "source": [
        "chat_completion.to_dict()\n"
      ],
      "metadata": {
        "colab": {
          "base_uri": "https://localhost:8080/"
        },
        "id": "BoUE9RkjkoJj",
        "outputId": "afb2fbfc-ec34-479e-8fd3-c1c9fd1745a6"
      },
      "execution_count": 13,
      "outputs": [
        {
          "output_type": "execute_result",
          "data": {
            "text/plain": [
              "{'id': 'chatcmpl-9GDI8MtoYFRnosjcKhrscv1wIkalC',\n",
              " 'object': 'chat.completion',\n",
              " 'created': 1713651368,\n",
              " 'model': 'gpt-3.5-turbo-0125',\n",
              " 'choices': [<OpenAIObject at 0x78e15c5af010> JSON: {\n",
              "    \"index\": 0,\n",
              "    \"message\": {\n",
              "      \"role\": \"assistant\",\n",
              "      \"content\": \"blue and clear, with a few fluffy white clouds scattered across its expanse. The sun is shining brightly, casting a warm golden hue over everything it touches. Birds can be heard chirping as they soar through the sky, adding to the peaceful atmosphere. Overall, it's a beautiful day with a perfect sky.\"\n",
              "    },\n",
              "    \"logprobs\": null,\n",
              "    \"finish_reason\": \"stop\"\n",
              "  }],\n",
              " 'usage': <OpenAIObject at 0x78e17074f330> JSON: {\n",
              "   \"prompt_tokens\": 10,\n",
              "   \"completion_tokens\": 63,\n",
              "   \"total_tokens\": 73\n",
              " },\n",
              " 'system_fingerprint': 'fp_c2295e73ad'}"
            ]
          },
          "metadata": {},
          "execution_count": 13
        }
      ]
    },
    {
      "cell_type": "code",
      "source": [
        "# print the chat completion\n",
        "print(chat_completion.choices[0].message.content)"
      ],
      "metadata": {
        "colab": {
          "base_uri": "https://localhost:8080/"
        },
        "id": "1kTFtWOEk8Ob",
        "outputId": "30df9e0c-5a2e-4e6f-90bc-667c37e1a1c2"
      },
      "execution_count": 14,
      "outputs": [
        {
          "output_type": "stream",
          "name": "stdout",
          "text": [
            "blue and clear, with a few fluffy white clouds scattered across its expanse. The sun is shining brightly, casting a warm golden hue over everything it touches. Birds can be heard chirping as they soar through the sky, adding to the peaceful atmosphere. Overall, it's a beautiful day with a perfect sky.\n"
          ]
        }
      ]
    },
    {
      "cell_type": "markdown",
      "source": [
        "**Maximum tokens**\n"
      ],
      "metadata": {
        "id": "wDYVPZTElURr"
      }
    },
    {
      "cell_type": "code",
      "source": [
        "# create a chat completion\n",
        "chat_completion = openai.ChatCompletion.create(model=\"gpt-3.5-turbo\",\n",
        "                                messages=[{\"role\": \"user\", \"content\": \"The sky is\"}],\n",
        "                                max_tokens = 1)\n",
        "\n",
        "# print the chat completion\n",
        "print(chat_completion.choices[0].message.content)"
      ],
      "metadata": {
        "colab": {
          "base_uri": "https://localhost:8080/"
        },
        "id": "K4uSPhbIlY3b",
        "outputId": "c71c8d5b-0191-41cd-f3f7-da5e56ca5a9b"
      },
      "execution_count": 15,
      "outputs": [
        {
          "output_type": "stream",
          "name": "stdout",
          "text": [
            " vast\n"
          ]
        }
      ]
    },
    {
      "cell_type": "markdown",
      "source": [
        "**n** is equal to number of chat completions\n"
      ],
      "metadata": {
        "id": "1r2zndHZlkm7"
      }
    },
    {
      "cell_type": "code",
      "source": [
        "# create a chat completion\n",
        "chat_completion = openai.ChatCompletion.create(model=\"gpt-3.5-turbo\",\n",
        "                                messages=[{\"role\": \"user\", \"content\": \"The sky is\"}],\n",
        "                                max_tokens = 2,\n",
        "                                n=3)\n",
        "\n",
        "# print the chat completion\n",
        "for i in range(len(chat_completion.choices)):\n",
        "    print(chat_completion.choices[i].message.content)"
      ],
      "metadata": {
        "colab": {
          "base_uri": "https://localhost:8080/"
        },
        "id": "lp13q3aHluuv",
        "outputId": "78dd5aac-70d9-4742-8dcb-161f48ab8537"
      },
      "execution_count": 17,
      "outputs": [
        {
          "output_type": "stream",
          "name": "stdout",
          "text": [
            "cloudy\n",
            " blue and\n",
            " clear and\n"
          ]
        }
      ]
    },
    {
      "cell_type": "markdown",
      "source": [
        "**Temperature**\n"
      ],
      "metadata": {
        "id": "YuE0-Vmvl-9r"
      }
    },
    {
      "cell_type": "code",
      "source": [
        "# create a chat completion\n",
        "chat_completion = openai.ChatCompletion.create(model=\"gpt-3.5-turbo\",\n",
        "                                messages=[{\"role\": \"user\", \"content\": \"The sky is\"}],\n",
        "                                max_tokens = 2,\n",
        "                                n=3,\n",
        "                                temperature=1.5)\n",
        "\n",
        "# print the chat completion\n",
        "for i in range(len(chat_completion.choices)):\n",
        "    print(chat_completion.choices[i].message.content)"
      ],
      "metadata": {
        "colab": {
          "base_uri": "https://localhost:8080/"
        },
        "id": "X5a9uR-qmA96",
        "outputId": "1f246586-d42a-4b40-cefa-4447ace30f19"
      },
      "execution_count": 24,
      "outputs": [
        {
          "output_type": "stream",
          "name": "stdout",
          "text": [
            "clear and\n",
            "beautiful and\n",
            " vast and\n"
          ]
        }
      ]
    }
  ]
}
